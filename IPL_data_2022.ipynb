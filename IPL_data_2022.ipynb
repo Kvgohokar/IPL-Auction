{
  "nbformat": 4,
  "nbformat_minor": 0,
  "metadata": {
    "colab": {
      "provenance": []
    },
    "kernelspec": {
      "name": "python3",
      "display_name": "Python 3"
    },
    "language_info": {
      "name": "python"
    }
  },
  "cells": [
    {
      "cell_type": "code",
      "execution_count": null,
      "metadata": {
        "id": "3AgOCCYnMGIa"
      },
      "outputs": [],
      "source": [
        "import pandas as pd\n",
        "import numpy as np\n",
        "import matplotlib.pyplot as plt\n",
        "\n",
        "import warnings\n",
        "warnings.filterwarnings(\"ignore\")\n",
        "def fxn():\n",
        "    warnings.warn(\"deprecated\", DeprecationWarning)\n",
        "\n",
        "with warnings.catch_warnings():\n",
        "    warnings.simplefilter(\"ignore\")\n",
        "    fxn()"
      ]
    },
    {
      "cell_type": "code",
      "source": [
        "df_cleaned = pd.read_csv('/content/drive/MyDrive/Projects/IPL auction/Ipl2022Cleaned.csv')"
      ],
      "metadata": {
        "id": "gmXiulf_MSto"
      },
      "execution_count": null,
      "outputs": []
    },
    {
      "cell_type": "code",
      "source": [
        "df_cleaned.head()"
      ],
      "metadata": {
        "colab": {
          "base_uri": "https://localhost:8080/",
          "height": 383
        },
        "id": "TGnwvkjZOS3i",
        "outputId": "a055779b-93f1-4f55-b3cf-c210dd403903"
      },
      "execution_count": null,
      "outputs": [
        {
          "output_type": "execute_result",
          "data": {
            "text/plain": [
              "   Unnamed: 0           Player        Role  BasePrice  Salaries (lakh)    Mat  \\\n",
              "0           0      Aaron Finch      Batter      150.0              0.0  382.0   \n",
              "1           1      Abdul Samad      Batter        0.0            400.0   53.0   \n",
              "2           2   Abhijeet Tomar      Batter       20.0             40.0    8.0   \n",
              "3           3  Abhinav Manohar  Allrounder       20.0            260.0   20.0   \n",
              "4           4  Abhishek Sharma  Allrounder       20.0            650.0   67.0   \n",
              "\n",
              "    Inns    NO     Runs     HS  ...  Inns.1  Balls  Runs.1  Wkts  Ave.1  \\\n",
              "0  376.0  39.0  11392.0  172.0  ...    28.0  239.0   369.0   7.0  52.71   \n",
              "1   45.0  13.0    920.0   76.0  ...    14.0  126.0   213.0   4.0  53.25   \n",
              "2    8.0   1.0    153.0   84.0  ...     0.0    0.0     0.0   0.0   0.00   \n",
              "3   16.0   5.0    402.0   70.0  ...     0.0    0.0     0.0   0.0   0.00   \n",
              "4   65.0  12.0   1476.0  107.0  ...    35.0  480.0   511.0  26.0  19.65   \n",
              "\n",
              "    Econ  SR.1   4w   5w  10w  \n",
              "0   9.26  34.1  0.0  0.0  0.0  \n",
              "1  10.14  31.5  0.0  0.0  0.0  \n",
              "2   0.00   0.0  0.0  0.0  0.0  \n",
              "3   0.00   0.0  0.0  0.0  0.0  \n",
              "4   6.38  18.4  0.0  0.0  0.0  \n",
              "\n",
              "[5 rows x 30 columns]"
            ],
            "text/html": [
              "\n",
              "  <div id=\"df-051dbedc-266a-482e-95c2-3a5603fe5a27\">\n",
              "    <div class=\"colab-df-container\">\n",
              "      <div>\n",
              "<style scoped>\n",
              "    .dataframe tbody tr th:only-of-type {\n",
              "        vertical-align: middle;\n",
              "    }\n",
              "\n",
              "    .dataframe tbody tr th {\n",
              "        vertical-align: top;\n",
              "    }\n",
              "\n",
              "    .dataframe thead th {\n",
              "        text-align: right;\n",
              "    }\n",
              "</style>\n",
              "<table border=\"1\" class=\"dataframe\">\n",
              "  <thead>\n",
              "    <tr style=\"text-align: right;\">\n",
              "      <th></th>\n",
              "      <th>Unnamed: 0</th>\n",
              "      <th>Player</th>\n",
              "      <th>Role</th>\n",
              "      <th>BasePrice</th>\n",
              "      <th>Salaries (lakh)</th>\n",
              "      <th>Mat</th>\n",
              "      <th>Inns</th>\n",
              "      <th>NO</th>\n",
              "      <th>Runs</th>\n",
              "      <th>HS</th>\n",
              "      <th>...</th>\n",
              "      <th>Inns.1</th>\n",
              "      <th>Balls</th>\n",
              "      <th>Runs.1</th>\n",
              "      <th>Wkts</th>\n",
              "      <th>Ave.1</th>\n",
              "      <th>Econ</th>\n",
              "      <th>SR.1</th>\n",
              "      <th>4w</th>\n",
              "      <th>5w</th>\n",
              "      <th>10w</th>\n",
              "    </tr>\n",
              "  </thead>\n",
              "  <tbody>\n",
              "    <tr>\n",
              "      <th>0</th>\n",
              "      <td>0</td>\n",
              "      <td>Aaron Finch</td>\n",
              "      <td>Batter</td>\n",
              "      <td>150.0</td>\n",
              "      <td>0.0</td>\n",
              "      <td>382.0</td>\n",
              "      <td>376.0</td>\n",
              "      <td>39.0</td>\n",
              "      <td>11392.0</td>\n",
              "      <td>172.0</td>\n",
              "      <td>...</td>\n",
              "      <td>28.0</td>\n",
              "      <td>239.0</td>\n",
              "      <td>369.0</td>\n",
              "      <td>7.0</td>\n",
              "      <td>52.71</td>\n",
              "      <td>9.26</td>\n",
              "      <td>34.1</td>\n",
              "      <td>0.0</td>\n",
              "      <td>0.0</td>\n",
              "      <td>0.0</td>\n",
              "    </tr>\n",
              "    <tr>\n",
              "      <th>1</th>\n",
              "      <td>1</td>\n",
              "      <td>Abdul Samad</td>\n",
              "      <td>Batter</td>\n",
              "      <td>0.0</td>\n",
              "      <td>400.0</td>\n",
              "      <td>53.0</td>\n",
              "      <td>45.0</td>\n",
              "      <td>13.0</td>\n",
              "      <td>920.0</td>\n",
              "      <td>76.0</td>\n",
              "      <td>...</td>\n",
              "      <td>14.0</td>\n",
              "      <td>126.0</td>\n",
              "      <td>213.0</td>\n",
              "      <td>4.0</td>\n",
              "      <td>53.25</td>\n",
              "      <td>10.14</td>\n",
              "      <td>31.5</td>\n",
              "      <td>0.0</td>\n",
              "      <td>0.0</td>\n",
              "      <td>0.0</td>\n",
              "    </tr>\n",
              "    <tr>\n",
              "      <th>2</th>\n",
              "      <td>2</td>\n",
              "      <td>Abhijeet Tomar</td>\n",
              "      <td>Batter</td>\n",
              "      <td>20.0</td>\n",
              "      <td>40.0</td>\n",
              "      <td>8.0</td>\n",
              "      <td>8.0</td>\n",
              "      <td>1.0</td>\n",
              "      <td>153.0</td>\n",
              "      <td>84.0</td>\n",
              "      <td>...</td>\n",
              "      <td>0.0</td>\n",
              "      <td>0.0</td>\n",
              "      <td>0.0</td>\n",
              "      <td>0.0</td>\n",
              "      <td>0.00</td>\n",
              "      <td>0.00</td>\n",
              "      <td>0.0</td>\n",
              "      <td>0.0</td>\n",
              "      <td>0.0</td>\n",
              "      <td>0.0</td>\n",
              "    </tr>\n",
              "    <tr>\n",
              "      <th>3</th>\n",
              "      <td>3</td>\n",
              "      <td>Abhinav Manohar</td>\n",
              "      <td>Allrounder</td>\n",
              "      <td>20.0</td>\n",
              "      <td>260.0</td>\n",
              "      <td>20.0</td>\n",
              "      <td>16.0</td>\n",
              "      <td>5.0</td>\n",
              "      <td>402.0</td>\n",
              "      <td>70.0</td>\n",
              "      <td>...</td>\n",
              "      <td>0.0</td>\n",
              "      <td>0.0</td>\n",
              "      <td>0.0</td>\n",
              "      <td>0.0</td>\n",
              "      <td>0.00</td>\n",
              "      <td>0.00</td>\n",
              "      <td>0.0</td>\n",
              "      <td>0.0</td>\n",
              "      <td>0.0</td>\n",
              "      <td>0.0</td>\n",
              "    </tr>\n",
              "    <tr>\n",
              "      <th>4</th>\n",
              "      <td>4</td>\n",
              "      <td>Abhishek Sharma</td>\n",
              "      <td>Allrounder</td>\n",
              "      <td>20.0</td>\n",
              "      <td>650.0</td>\n",
              "      <td>67.0</td>\n",
              "      <td>65.0</td>\n",
              "      <td>12.0</td>\n",
              "      <td>1476.0</td>\n",
              "      <td>107.0</td>\n",
              "      <td>...</td>\n",
              "      <td>35.0</td>\n",
              "      <td>480.0</td>\n",
              "      <td>511.0</td>\n",
              "      <td>26.0</td>\n",
              "      <td>19.65</td>\n",
              "      <td>6.38</td>\n",
              "      <td>18.4</td>\n",
              "      <td>0.0</td>\n",
              "      <td>0.0</td>\n",
              "      <td>0.0</td>\n",
              "    </tr>\n",
              "  </tbody>\n",
              "</table>\n",
              "<p>5 rows × 30 columns</p>\n",
              "</div>\n",
              "      <button class=\"colab-df-convert\" onclick=\"convertToInteractive('df-051dbedc-266a-482e-95c2-3a5603fe5a27')\"\n",
              "              title=\"Convert this dataframe to an interactive table.\"\n",
              "              style=\"display:none;\">\n",
              "        \n",
              "  <svg xmlns=\"http://www.w3.org/2000/svg\" height=\"24px\"viewBox=\"0 0 24 24\"\n",
              "       width=\"24px\">\n",
              "    <path d=\"M0 0h24v24H0V0z\" fill=\"none\"/>\n",
              "    <path d=\"M18.56 5.44l.94 2.06.94-2.06 2.06-.94-2.06-.94-.94-2.06-.94 2.06-2.06.94zm-11 1L8.5 8.5l.94-2.06 2.06-.94-2.06-.94L8.5 2.5l-.94 2.06-2.06.94zm10 10l.94 2.06.94-2.06 2.06-.94-2.06-.94-.94-2.06-.94 2.06-2.06.94z\"/><path d=\"M17.41 7.96l-1.37-1.37c-.4-.4-.92-.59-1.43-.59-.52 0-1.04.2-1.43.59L10.3 9.45l-7.72 7.72c-.78.78-.78 2.05 0 2.83L4 21.41c.39.39.9.59 1.41.59.51 0 1.02-.2 1.41-.59l7.78-7.78 2.81-2.81c.8-.78.8-2.07 0-2.86zM5.41 20L4 18.59l7.72-7.72 1.47 1.35L5.41 20z\"/>\n",
              "  </svg>\n",
              "      </button>\n",
              "      \n",
              "  <style>\n",
              "    .colab-df-container {\n",
              "      display:flex;\n",
              "      flex-wrap:wrap;\n",
              "      gap: 12px;\n",
              "    }\n",
              "\n",
              "    .colab-df-convert {\n",
              "      background-color: #E8F0FE;\n",
              "      border: none;\n",
              "      border-radius: 50%;\n",
              "      cursor: pointer;\n",
              "      display: none;\n",
              "      fill: #1967D2;\n",
              "      height: 32px;\n",
              "      padding: 0 0 0 0;\n",
              "      width: 32px;\n",
              "    }\n",
              "\n",
              "    .colab-df-convert:hover {\n",
              "      background-color: #E2EBFA;\n",
              "      box-shadow: 0px 1px 2px rgba(60, 64, 67, 0.3), 0px 1px 3px 1px rgba(60, 64, 67, 0.15);\n",
              "      fill: #174EA6;\n",
              "    }\n",
              "\n",
              "    [theme=dark] .colab-df-convert {\n",
              "      background-color: #3B4455;\n",
              "      fill: #D2E3FC;\n",
              "    }\n",
              "\n",
              "    [theme=dark] .colab-df-convert:hover {\n",
              "      background-color: #434B5C;\n",
              "      box-shadow: 0px 1px 3px 1px rgba(0, 0, 0, 0.15);\n",
              "      filter: drop-shadow(0px 1px 2px rgba(0, 0, 0, 0.3));\n",
              "      fill: #FFFFFF;\n",
              "    }\n",
              "  </style>\n",
              "\n",
              "      <script>\n",
              "        const buttonEl =\n",
              "          document.querySelector('#df-051dbedc-266a-482e-95c2-3a5603fe5a27 button.colab-df-convert');\n",
              "        buttonEl.style.display =\n",
              "          google.colab.kernel.accessAllowed ? 'block' : 'none';\n",
              "\n",
              "        async function convertToInteractive(key) {\n",
              "          const element = document.querySelector('#df-051dbedc-266a-482e-95c2-3a5603fe5a27');\n",
              "          const dataTable =\n",
              "            await google.colab.kernel.invokeFunction('convertToInteractive',\n",
              "                                                     [key], {});\n",
              "          if (!dataTable) return;\n",
              "\n",
              "          const docLinkHtml = 'Like what you see? Visit the ' +\n",
              "            '<a target=\"_blank\" href=https://colab.research.google.com/notebooks/data_table.ipynb>data table notebook</a>'\n",
              "            + ' to learn more about interactive tables.';\n",
              "          element.innerHTML = '';\n",
              "          dataTable['output_type'] = 'display_data';\n",
              "          await google.colab.output.renderOutput(dataTable, element);\n",
              "          const docLink = document.createElement('div');\n",
              "          docLink.innerHTML = docLinkHtml;\n",
              "          element.appendChild(docLink);\n",
              "        }\n",
              "      </script>\n",
              "    </div>\n",
              "  </div>\n",
              "  "
            ]
          },
          "metadata": {},
          "execution_count": 3
        }
      ]
    },
    {
      "cell_type": "code",
      "source": [
        "df_cleaned = df_cleaned.drop(['Unnamed: 0'], axis = 1)"
      ],
      "metadata": {
        "id": "hvMDVOBwOc2P"
      },
      "execution_count": null,
      "outputs": []
    },
    {
      "cell_type": "code",
      "source": [
        "df_cleaned.describe()"
      ],
      "metadata": {
        "colab": {
          "base_uri": "https://localhost:8080/",
          "height": 410
        },
        "id": "ttfCws0VOEMs",
        "outputId": "e9ec9c35-df4f-4bfc-e5c4-f842dda038bb"
      },
      "execution_count": null,
      "outputs": [
        {
          "output_type": "execute_result",
          "data": {
            "text/plain": [
              "        BasePrice  Salaries (lakh)         Mat        Inns          NO  \\\n",
              "count  340.000000       340.000000  340.000000  340.000000  340.000000   \n",
              "mean    60.573529       257.647059  116.267647   83.232353   19.223529   \n",
              "std     64.593422       392.378413  110.283419   98.636615   21.800991   \n",
              "min      0.000000         0.000000    0.000000    0.000000    0.000000   \n",
              "25%     20.000000         0.000000   32.000000   16.000000    4.000000   \n",
              "50%     20.000000        50.000000   80.000000   42.500000   13.000000   \n",
              "75%    100.000000       400.000000  166.750000  112.000000   28.000000   \n",
              "max    200.000000      1700.000000  624.000000  554.000000  166.000000   \n",
              "\n",
              "               Runs          HS         Ave           BF          SR  ...  \\\n",
              "count    340.000000  340.000000  340.000000   340.000000  340.000000  ...   \n",
              "mean    1692.479412   58.161765   18.584294  1266.873529  111.615824  ...   \n",
              "std     2538.532125   41.836037   11.719176  1850.411520   37.609850  ...   \n",
              "min        0.000000    0.000000    0.000000     0.000000    0.000000  ...   \n",
              "25%       80.500000   21.750000    8.587500    88.000000   99.592500  ...   \n",
              "50%      534.500000   55.000000   18.075000   412.000000  123.835000  ...   \n",
              "75%     2008.750000   92.000000   27.860000  1586.500000  134.290000  ...   \n",
              "max    12156.000000  172.000000   72.600000  8515.000000  190.000000  ...   \n",
              "\n",
              "           Inns.1         Balls        Runs.1        Wkts       Ave.1  \\\n",
              "count  340.000000    340.000000    340.000000  340.000000  340.000000   \n",
              "mean    65.129412   1281.458824   1631.235294   67.314706   20.104588   \n",
              "std     87.005752   1797.155147   2249.502669   96.461210   15.498449   \n",
              "min      0.000000      0.000000      0.000000    0.000000    0.000000   \n",
              "25%      2.000000     16.750000     23.250000    0.000000    0.000000   \n",
              "50%     30.500000    531.500000    690.500000   25.000000   22.630000   \n",
              "75%     94.500000   1906.250000   2398.000000   98.500000   27.505000   \n",
              "max    528.000000  10838.000000  14876.000000  615.000000   87.000000   \n",
              "\n",
              "             Econ        SR.1          4w          5w    10w  \n",
              "count  340.000000  340.000000  340.000000  340.000000  340.0  \n",
              "mean     6.379088   15.616176    1.229412    0.297059    0.0  \n",
              "std      3.387785   11.511487    2.075355    0.746668    0.0  \n",
              "min      0.000000    0.000000    0.000000    0.000000    0.0  \n",
              "25%      6.367500    0.000000    0.000000    0.000000    0.0  \n",
              "50%      7.455000   17.950000    0.000000    0.000000    0.0  \n",
              "75%      8.175000   21.225000    2.000000    0.000000    0.0  \n",
              "max     18.000000   71.000000   12.000000    6.000000    0.0  \n",
              "\n",
              "[8 rows x 27 columns]"
            ],
            "text/html": [
              "\n",
              "  <div id=\"df-8405c306-1f79-4819-98a1-c692b6079ba9\">\n",
              "    <div class=\"colab-df-container\">\n",
              "      <div>\n",
              "<style scoped>\n",
              "    .dataframe tbody tr th:only-of-type {\n",
              "        vertical-align: middle;\n",
              "    }\n",
              "\n",
              "    .dataframe tbody tr th {\n",
              "        vertical-align: top;\n",
              "    }\n",
              "\n",
              "    .dataframe thead th {\n",
              "        text-align: right;\n",
              "    }\n",
              "</style>\n",
              "<table border=\"1\" class=\"dataframe\">\n",
              "  <thead>\n",
              "    <tr style=\"text-align: right;\">\n",
              "      <th></th>\n",
              "      <th>BasePrice</th>\n",
              "      <th>Salaries (lakh)</th>\n",
              "      <th>Mat</th>\n",
              "      <th>Inns</th>\n",
              "      <th>NO</th>\n",
              "      <th>Runs</th>\n",
              "      <th>HS</th>\n",
              "      <th>Ave</th>\n",
              "      <th>BF</th>\n",
              "      <th>SR</th>\n",
              "      <th>...</th>\n",
              "      <th>Inns.1</th>\n",
              "      <th>Balls</th>\n",
              "      <th>Runs.1</th>\n",
              "      <th>Wkts</th>\n",
              "      <th>Ave.1</th>\n",
              "      <th>Econ</th>\n",
              "      <th>SR.1</th>\n",
              "      <th>4w</th>\n",
              "      <th>5w</th>\n",
              "      <th>10w</th>\n",
              "    </tr>\n",
              "  </thead>\n",
              "  <tbody>\n",
              "    <tr>\n",
              "      <th>count</th>\n",
              "      <td>340.000000</td>\n",
              "      <td>340.000000</td>\n",
              "      <td>340.000000</td>\n",
              "      <td>340.000000</td>\n",
              "      <td>340.000000</td>\n",
              "      <td>340.000000</td>\n",
              "      <td>340.000000</td>\n",
              "      <td>340.000000</td>\n",
              "      <td>340.000000</td>\n",
              "      <td>340.000000</td>\n",
              "      <td>...</td>\n",
              "      <td>340.000000</td>\n",
              "      <td>340.000000</td>\n",
              "      <td>340.000000</td>\n",
              "      <td>340.000000</td>\n",
              "      <td>340.000000</td>\n",
              "      <td>340.000000</td>\n",
              "      <td>340.000000</td>\n",
              "      <td>340.000000</td>\n",
              "      <td>340.000000</td>\n",
              "      <td>340.0</td>\n",
              "    </tr>\n",
              "    <tr>\n",
              "      <th>mean</th>\n",
              "      <td>60.573529</td>\n",
              "      <td>257.647059</td>\n",
              "      <td>116.267647</td>\n",
              "      <td>83.232353</td>\n",
              "      <td>19.223529</td>\n",
              "      <td>1692.479412</td>\n",
              "      <td>58.161765</td>\n",
              "      <td>18.584294</td>\n",
              "      <td>1266.873529</td>\n",
              "      <td>111.615824</td>\n",
              "      <td>...</td>\n",
              "      <td>65.129412</td>\n",
              "      <td>1281.458824</td>\n",
              "      <td>1631.235294</td>\n",
              "      <td>67.314706</td>\n",
              "      <td>20.104588</td>\n",
              "      <td>6.379088</td>\n",
              "      <td>15.616176</td>\n",
              "      <td>1.229412</td>\n",
              "      <td>0.297059</td>\n",
              "      <td>0.0</td>\n",
              "    </tr>\n",
              "    <tr>\n",
              "      <th>std</th>\n",
              "      <td>64.593422</td>\n",
              "      <td>392.378413</td>\n",
              "      <td>110.283419</td>\n",
              "      <td>98.636615</td>\n",
              "      <td>21.800991</td>\n",
              "      <td>2538.532125</td>\n",
              "      <td>41.836037</td>\n",
              "      <td>11.719176</td>\n",
              "      <td>1850.411520</td>\n",
              "      <td>37.609850</td>\n",
              "      <td>...</td>\n",
              "      <td>87.005752</td>\n",
              "      <td>1797.155147</td>\n",
              "      <td>2249.502669</td>\n",
              "      <td>96.461210</td>\n",
              "      <td>15.498449</td>\n",
              "      <td>3.387785</td>\n",
              "      <td>11.511487</td>\n",
              "      <td>2.075355</td>\n",
              "      <td>0.746668</td>\n",
              "      <td>0.0</td>\n",
              "    </tr>\n",
              "    <tr>\n",
              "      <th>min</th>\n",
              "      <td>0.000000</td>\n",
              "      <td>0.000000</td>\n",
              "      <td>0.000000</td>\n",
              "      <td>0.000000</td>\n",
              "      <td>0.000000</td>\n",
              "      <td>0.000000</td>\n",
              "      <td>0.000000</td>\n",
              "      <td>0.000000</td>\n",
              "      <td>0.000000</td>\n",
              "      <td>0.000000</td>\n",
              "      <td>...</td>\n",
              "      <td>0.000000</td>\n",
              "      <td>0.000000</td>\n",
              "      <td>0.000000</td>\n",
              "      <td>0.000000</td>\n",
              "      <td>0.000000</td>\n",
              "      <td>0.000000</td>\n",
              "      <td>0.000000</td>\n",
              "      <td>0.000000</td>\n",
              "      <td>0.000000</td>\n",
              "      <td>0.0</td>\n",
              "    </tr>\n",
              "    <tr>\n",
              "      <th>25%</th>\n",
              "      <td>20.000000</td>\n",
              "      <td>0.000000</td>\n",
              "      <td>32.000000</td>\n",
              "      <td>16.000000</td>\n",
              "      <td>4.000000</td>\n",
              "      <td>80.500000</td>\n",
              "      <td>21.750000</td>\n",
              "      <td>8.587500</td>\n",
              "      <td>88.000000</td>\n",
              "      <td>99.592500</td>\n",
              "      <td>...</td>\n",
              "      <td>2.000000</td>\n",
              "      <td>16.750000</td>\n",
              "      <td>23.250000</td>\n",
              "      <td>0.000000</td>\n",
              "      <td>0.000000</td>\n",
              "      <td>6.367500</td>\n",
              "      <td>0.000000</td>\n",
              "      <td>0.000000</td>\n",
              "      <td>0.000000</td>\n",
              "      <td>0.0</td>\n",
              "    </tr>\n",
              "    <tr>\n",
              "      <th>50%</th>\n",
              "      <td>20.000000</td>\n",
              "      <td>50.000000</td>\n",
              "      <td>80.000000</td>\n",
              "      <td>42.500000</td>\n",
              "      <td>13.000000</td>\n",
              "      <td>534.500000</td>\n",
              "      <td>55.000000</td>\n",
              "      <td>18.075000</td>\n",
              "      <td>412.000000</td>\n",
              "      <td>123.835000</td>\n",
              "      <td>...</td>\n",
              "      <td>30.500000</td>\n",
              "      <td>531.500000</td>\n",
              "      <td>690.500000</td>\n",
              "      <td>25.000000</td>\n",
              "      <td>22.630000</td>\n",
              "      <td>7.455000</td>\n",
              "      <td>17.950000</td>\n",
              "      <td>0.000000</td>\n",
              "      <td>0.000000</td>\n",
              "      <td>0.0</td>\n",
              "    </tr>\n",
              "    <tr>\n",
              "      <th>75%</th>\n",
              "      <td>100.000000</td>\n",
              "      <td>400.000000</td>\n",
              "      <td>166.750000</td>\n",
              "      <td>112.000000</td>\n",
              "      <td>28.000000</td>\n",
              "      <td>2008.750000</td>\n",
              "      <td>92.000000</td>\n",
              "      <td>27.860000</td>\n",
              "      <td>1586.500000</td>\n",
              "      <td>134.290000</td>\n",
              "      <td>...</td>\n",
              "      <td>94.500000</td>\n",
              "      <td>1906.250000</td>\n",
              "      <td>2398.000000</td>\n",
              "      <td>98.500000</td>\n",
              "      <td>27.505000</td>\n",
              "      <td>8.175000</td>\n",
              "      <td>21.225000</td>\n",
              "      <td>2.000000</td>\n",
              "      <td>0.000000</td>\n",
              "      <td>0.0</td>\n",
              "    </tr>\n",
              "    <tr>\n",
              "      <th>max</th>\n",
              "      <td>200.000000</td>\n",
              "      <td>1700.000000</td>\n",
              "      <td>624.000000</td>\n",
              "      <td>554.000000</td>\n",
              "      <td>166.000000</td>\n",
              "      <td>12156.000000</td>\n",
              "      <td>172.000000</td>\n",
              "      <td>72.600000</td>\n",
              "      <td>8515.000000</td>\n",
              "      <td>190.000000</td>\n",
              "      <td>...</td>\n",
              "      <td>528.000000</td>\n",
              "      <td>10838.000000</td>\n",
              "      <td>14876.000000</td>\n",
              "      <td>615.000000</td>\n",
              "      <td>87.000000</td>\n",
              "      <td>18.000000</td>\n",
              "      <td>71.000000</td>\n",
              "      <td>12.000000</td>\n",
              "      <td>6.000000</td>\n",
              "      <td>0.0</td>\n",
              "    </tr>\n",
              "  </tbody>\n",
              "</table>\n",
              "<p>8 rows × 27 columns</p>\n",
              "</div>\n",
              "      <button class=\"colab-df-convert\" onclick=\"convertToInteractive('df-8405c306-1f79-4819-98a1-c692b6079ba9')\"\n",
              "              title=\"Convert this dataframe to an interactive table.\"\n",
              "              style=\"display:none;\">\n",
              "        \n",
              "  <svg xmlns=\"http://www.w3.org/2000/svg\" height=\"24px\"viewBox=\"0 0 24 24\"\n",
              "       width=\"24px\">\n",
              "    <path d=\"M0 0h24v24H0V0z\" fill=\"none\"/>\n",
              "    <path d=\"M18.56 5.44l.94 2.06.94-2.06 2.06-.94-2.06-.94-.94-2.06-.94 2.06-2.06.94zm-11 1L8.5 8.5l.94-2.06 2.06-.94-2.06-.94L8.5 2.5l-.94 2.06-2.06.94zm10 10l.94 2.06.94-2.06 2.06-.94-2.06-.94-.94-2.06-.94 2.06-2.06.94z\"/><path d=\"M17.41 7.96l-1.37-1.37c-.4-.4-.92-.59-1.43-.59-.52 0-1.04.2-1.43.59L10.3 9.45l-7.72 7.72c-.78.78-.78 2.05 0 2.83L4 21.41c.39.39.9.59 1.41.59.51 0 1.02-.2 1.41-.59l7.78-7.78 2.81-2.81c.8-.78.8-2.07 0-2.86zM5.41 20L4 18.59l7.72-7.72 1.47 1.35L5.41 20z\"/>\n",
              "  </svg>\n",
              "      </button>\n",
              "      \n",
              "  <style>\n",
              "    .colab-df-container {\n",
              "      display:flex;\n",
              "      flex-wrap:wrap;\n",
              "      gap: 12px;\n",
              "    }\n",
              "\n",
              "    .colab-df-convert {\n",
              "      background-color: #E8F0FE;\n",
              "      border: none;\n",
              "      border-radius: 50%;\n",
              "      cursor: pointer;\n",
              "      display: none;\n",
              "      fill: #1967D2;\n",
              "      height: 32px;\n",
              "      padding: 0 0 0 0;\n",
              "      width: 32px;\n",
              "    }\n",
              "\n",
              "    .colab-df-convert:hover {\n",
              "      background-color: #E2EBFA;\n",
              "      box-shadow: 0px 1px 2px rgba(60, 64, 67, 0.3), 0px 1px 3px 1px rgba(60, 64, 67, 0.15);\n",
              "      fill: #174EA6;\n",
              "    }\n",
              "\n",
              "    [theme=dark] .colab-df-convert {\n",
              "      background-color: #3B4455;\n",
              "      fill: #D2E3FC;\n",
              "    }\n",
              "\n",
              "    [theme=dark] .colab-df-convert:hover {\n",
              "      background-color: #434B5C;\n",
              "      box-shadow: 0px 1px 3px 1px rgba(0, 0, 0, 0.15);\n",
              "      filter: drop-shadow(0px 1px 2px rgba(0, 0, 0, 0.3));\n",
              "      fill: #FFFFFF;\n",
              "    }\n",
              "  </style>\n",
              "\n",
              "      <script>\n",
              "        const buttonEl =\n",
              "          document.querySelector('#df-8405c306-1f79-4819-98a1-c692b6079ba9 button.colab-df-convert');\n",
              "        buttonEl.style.display =\n",
              "          google.colab.kernel.accessAllowed ? 'block' : 'none';\n",
              "\n",
              "        async function convertToInteractive(key) {\n",
              "          const element = document.querySelector('#df-8405c306-1f79-4819-98a1-c692b6079ba9');\n",
              "          const dataTable =\n",
              "            await google.colab.kernel.invokeFunction('convertToInteractive',\n",
              "                                                     [key], {});\n",
              "          if (!dataTable) return;\n",
              "\n",
              "          const docLinkHtml = 'Like what you see? Visit the ' +\n",
              "            '<a target=\"_blank\" href=https://colab.research.google.com/notebooks/data_table.ipynb>data table notebook</a>'\n",
              "            + ' to learn more about interactive tables.';\n",
              "          element.innerHTML = '';\n",
              "          dataTable['output_type'] = 'display_data';\n",
              "          await google.colab.output.renderOutput(dataTable, element);\n",
              "          const docLink = document.createElement('div');\n",
              "          docLink.innerHTML = docLinkHtml;\n",
              "          element.appendChild(docLink);\n",
              "        }\n",
              "      </script>\n",
              "    </div>\n",
              "  </div>\n",
              "  "
            ]
          },
          "metadata": {},
          "execution_count": 5
        }
      ]
    },
    {
      "cell_type": "markdown",
      "source": [
        "#Categorical data prep\n",
        "\n",
        "Convert the Salary column into 7 categories."
      ],
      "metadata": {
        "id": "TdF2I853MyLG"
      }
    },
    {
      "cell_type": "code",
      "source": [
        "df_cat = df_cleaned.drop(['Player'], axis = 1)\n",
        "df_cat = df_cat[df_cat['Role'] != 'Unknown']\n",
        "df_cat = pd.get_dummies(df_cat, columns = ['Role', 'BasePrice'], drop_first = True)"
      ],
      "metadata": {
        "id": "__BA7S-aMxAH"
      },
      "execution_count": null,
      "outputs": []
    },
    {
      "cell_type": "code",
      "source": [
        "df_cat['Salaries (lakh)'].hist()\n",
        "plt.show()"
      ],
      "metadata": {
        "id": "9s07kpUNPzuZ",
        "colab": {
          "base_uri": "https://localhost:8080/",
          "height": 430
        },
        "outputId": "220a0d5e-1f1d-4201-812e-27c1e1077b8f"
      },
      "execution_count": null,
      "outputs": [
        {
          "output_type": "display_data",
          "data": {
            "text/plain": [
              "<Figure size 640x480 with 1 Axes>"
            ],
            "image/png": "[encoded data removed]"
          },
          "metadata": {}
        }
      ]
    },
    {
      "cell_type": "code",
      "source": [
        "bins  = list(df_cat[df_cat['Salaries (lakh)'] > 20]['Salaries (lakh)'].quantile(np.linspace(0,1,6)))"
      ],
      "metadata": {
        "id": "Pp1OPoWhpoI2"
      },
      "execution_count": null,
      "outputs": []
    },
    {
      "cell_type": "code",
      "source": [
        "bins[0] = 20.0\n",
        "#pd.cut does not consider the first element, or using right = False, it will not consider the last element"
      ],
      "metadata": {
        "id": "JH3IjDom0qb4"
      },
      "execution_count": null,
      "outputs": []
    },
    {
      "cell_type": "code",
      "source": [
        "bins"
      ],
      "metadata": {
        "colab": {
          "base_uri": "https://localhost:8080/"
        },
        "id": "P-tS86gu1ata",
        "outputId": "aeed00e9-c675-4ef6-f371-c557b5b56555"
      },
      "execution_count": null,
      "outputs": [
        {
          "output_type": "execute_result",
          "data": {
            "text/plain": [
              "[20.0, 75.0, 200.0, 448.0000000000004, 825.0, 1700.0]"
            ]
          },
          "metadata": {},
          "execution_count": 10
        }
      ]
    },
    {
      "cell_type": "code",
      "source": [
        "df_cat['Salary_Cat'] = ''"
      ],
      "metadata": {
        "id": "_-vQ2dq125QD"
      },
      "execution_count": null,
      "outputs": []
    },
    {
      "cell_type": "code",
      "source": [
        "categories = np.array(\n",
        "     ['Unsold','One', 'Two', 'Three', 'Four', 'Five', 'Six', 'Seven'])\n",
        "\n",
        "df_cat['Salary_Cat'] = pd.Categorical(\n",
        "   df_cat['Salary_Cat'], categories=categories, ordered = True)"
      ],
      "metadata": {
        "id": "fUNYds9Runo8"
      },
      "execution_count": null,
      "outputs": []
    },
    {
      "cell_type": "code",
      "source": [
        "df_cat = df_cat.assign(Salary_Cat =pd.cut(df_cat[df_cat['Salaries (lakh)'] > 20]['Salaries (lakh)'], \n",
        "                               bins=bins, \n",
        "                               labels=['Three', 'Four', 'Five', 'Six', 'Seven']))"
      ],
      "metadata": {
        "id": "j7llRtCRsDVl"
      },
      "execution_count": null,
      "outputs": []
    },
    {
      "cell_type": "code",
      "source": [
        "df_cat['Salary_Cat'] = np.where(df_cat['Salaries (lakh)'] == 0, 'Unsold', df_cat['Salary_Cat'])"
      ],
      "metadata": {
        "id": "JgnMZcNrwtkz"
      },
      "execution_count": null,
      "outputs": []
    },
    {
      "cell_type": "code",
      "source": [
        "df_cat['Salary_Cat'] = np.where(df_cat['Salaries (lakh)'] == 20, 'One', df_cat['Salary_Cat'])"
      ],
      "metadata": {
        "id": "LMeqUy-xxL1D"
      },
      "execution_count": null,
      "outputs": []
    },
    {
      "cell_type": "code",
      "source": [
        "df_cat['Salary_Cat'].unique()"
      ],
      "metadata": {
        "colab": {
          "base_uri": "https://localhost:8080/"
        },
        "id": "_T5qMFshxB5b",
        "outputId": "20d5c326-3c59-41d3-f64d-853f13924371"
      },
      "execution_count": null,
      "outputs": [
        {
          "output_type": "execute_result",
          "data": {
            "text/plain": [
              "array(['Unsold', 'Five', 'Three', 'Six', 'Four', 'One', 'Seven'],\n",
              "      dtype=object)"
            ]
          },
          "metadata": {},
          "execution_count": 16
        }
      ]
    },
    {
      "cell_type": "code",
      "source": [
        "df_cat['Salary_Cat'].value_counts()"
      ],
      "metadata": {
        "id": "O18n6j0s1Nzg",
        "outputId": "04fe19df-490f-49e2-df17-fa1f39004d8e",
        "colab": {
          "base_uri": "https://localhost:8080/"
        }
      },
      "execution_count": null,
      "outputs": [
        {
          "output_type": "execute_result",
          "data": {
            "text/plain": [
              "Unsold    90\n",
              "One       52\n",
              "Three     41\n",
              "Four      41\n",
              "Six       39\n",
              "Seven     35\n",
              "Five      29\n",
              "Name: Salary_Cat, dtype: int64"
            ]
          },
          "metadata": {},
          "execution_count": 54
        }
      ]
    },
    {
      "cell_type": "code",
      "source": [
        "df_cat['Salary_Cat'].value_counts().plot(kind='bar')"
      ],
      "metadata": {
        "colab": {
          "base_uri": "https://localhost:8080/",
          "height": 481
        },
        "id": "tPbc3YpBp21t",
        "outputId": "9cb5b0bf-7c8c-44a6-8895-86755fd01d43"
      },
      "execution_count": null,
      "outputs": [
        {
          "output_type": "execute_result",
          "data": {
            "text/plain": [
              "<Axes: >"
            ]
          },
          "metadata": {},
          "execution_count": 17
        },
        {
          "output_type": "display_data",
          "data": {
            "text/plain": [
              "<Figure size 640x480 with 1 Axes>"
            ],
            "image/png": "[encoded data removed]"
          },
          "metadata": {}
        }
      ]
    },
    {
      "cell_type": "markdown",
      "source": [
        "## Modelling the data"
      ],
      "metadata": {
        "id": "bgib76fQ3Fsa"
      }
    },
    {
      "cell_type": "code",
      "source": [
        "X = df_cat.drop(['Salaries (lakh)', 'Salary_Cat'], axis = 1)\n",
        "y = df_cat['Salary_Cat']"
      ],
      "metadata": {
        "id": "xXnbthi7vK_j"
      },
      "execution_count": null,
      "outputs": []
    },
    {
      "cell_type": "code",
      "source": [
        "from sklearn.model_selection import train_test_split\n",
        "\n",
        "X_train, X_test, y_train, y_test = train_test_split(X, y, test_size=0.30, random_state=24)"
      ],
      "metadata": {
        "id": "oAKoIGNB3LMX"
      },
      "execution_count": null,
      "outputs": []
    },
    {
      "cell_type": "code",
      "source": [
        "from sklearn.pipeline import Pipeline\n",
        "from sklearn.linear_model import LogisticRegression\n",
        "from sklearn.metrics import accuracy_score\n",
        "from sklearn.preprocessing import StandardScaler\n",
        "from sklearn.neighbors import KNeighborsClassifier\n",
        "from sklearn.ensemble import RandomForestClassifier\n",
        "from sklearn.tree import DecisionTreeClassifier\n",
        "from sklearn.svm import SVC\n",
        "from sklearn.naive_bayes import MultinomialNB,GaussianNB\n",
        "from sklearn.discriminant_analysis import LinearDiscriminantAnalysis as LDA\n",
        "\n",
        "from sklearn.model_selection import cross_val_score\n",
        "import matplotlib.pyplot as plt\n",
        "from sklearn.model_selection import KFold\n",
        "from sklearn import metrics"
      ],
      "metadata": {
        "id": "vBDszWbE3M0P"
      },
      "execution_count": null,
      "outputs": []
    },
    {
      "cell_type": "code",
      "source": [
        "pipelines = []\n",
        "pipelines.append(('scaledLR' , (Pipeline([('scaled' , StandardScaler()),('LR' ,LogisticRegression())]))))\n",
        "pipelines.append(('scaledDT' , (Pipeline([('scaled' , StandardScaler()),('DT' ,DecisionTreeClassifier())]))))\n",
        "pipelines.append(('scaledRF' , (Pipeline([('scaled' , StandardScaler()),('RF' ,RandomForestClassifier())]))))\n",
        "pipelines.append(('scaledKNN' , (Pipeline([('scaled' , StandardScaler()),('KNN' ,KNeighborsClassifier())]))))\n",
        "pipelines.append(('scaledSVC' , (Pipeline([('scaled' , StandardScaler()),('SVC' ,SVC(probability= True))]))))\n",
        "pipelines.append(('scaledLDA' , (Pipeline([('scaled' , StandardScaler()),('LDA' ,LDA())]))))"
      ],
      "metadata": {
        "id": "gP5867Gl3QNX"
      },
      "execution_count": null,
      "outputs": []
    },
    {
      "cell_type": "code",
      "source": [
        "model_name = []\n",
        "results = []\n",
        "for pipe ,model in pipelines:\n",
        "    model.fit(X_train,y_train)\n",
        "    model_name.append(pipe)\n",
        "    accuracy = metrics.accuracy_score(y_test, model.predict(X_test))\n",
        "    y_pred_proba = model.predict_proba(X_test)\n",
        "    auc = metrics.roc_auc_score(y_test, y_pred_proba, multi_class='ovr')\n",
        "    msg = \"%s: (accuracy) %f (auc) %g \" % (pipe,accuracy,auc)\n",
        "    print(msg)"
      ],
      "metadata": {
        "colab": {
          "base_uri": "https://localhost:8080/"
        },
        "id": "5Bzh--h83S7n",
        "outputId": "c3a93bd5-6004-4a21-e3de-2f7c22ca2ddb"
      },
      "execution_count": null,
      "outputs": [
        {
          "output_type": "stream",
          "name": "stdout",
          "text": [
            "scaledLR: (accuracy) 0.323232 (auc) 0.720425 \n",
            "scaledDT: (accuracy) 0.212121 (auc) 0.540494 \n",
            "scaledRF: (accuracy) 0.232323 (auc) 0.654253 \n",
            "scaledKNN: (accuracy) 0.282828 (auc) 0.667608 \n",
            "scaledSVC: (accuracy) 0.262626 (auc) 0.702072 \n",
            "scaledLDA: (accuracy) 0.282828 (auc) 0.685081 \n"
          ]
        }
      ]
    },
    {
      "cell_type": "markdown",
      "source": [
        "##Feature selection"
      ],
      "metadata": {
        "id": "jYmqe3Ka3hoZ"
      }
    },
    {
      "cell_type": "markdown",
      "source": [
        "### PCA"
      ],
      "metadata": {
        "id": "CUJ_sLAV3m7p"
      }
    },
    {
      "cell_type": "code",
      "source": [
        "df_pca = X.copy()"
      ],
      "metadata": {
        "id": "zKQZ5dO93WHX"
      },
      "execution_count": null,
      "outputs": []
    },
    {
      "cell_type": "code",
      "source": [
        "from sklearn.decomposition import PCA\n",
        "from sklearn.preprocessing import StandardScaler"
      ],
      "metadata": {
        "id": "kfNtpooB3ruB"
      },
      "execution_count": null,
      "outputs": []
    },
    {
      "cell_type": "code",
      "source": [
        "# Scale data before applying PCA\n",
        "scaling=StandardScaler()\n",
        " \n",
        "# Use fit and transform method\n",
        "scaling.fit(df_pca)\n",
        "Scaled_data=scaling.transform(df_pca)\n",
        " \n",
        "# Set the n_components=3\n",
        "principal=PCA(n_components=10)\n",
        "principal.fit(Scaled_data)\n",
        "x=principal.transform(Scaled_data)\n",
        " \n",
        "# Check the dimensions of data after PCA\n",
        "print(x.shape)"
      ],
      "metadata": {
        "colab": {
          "base_uri": "https://localhost:8080/"
        },
        "id": "b1gj1tSX3uU5",
        "outputId": "02fb3c32-1cd8-469f-bbc5-ece47a389659"
      },
      "execution_count": null,
      "outputs": [
        {
          "output_type": "stream",
          "name": "stdout",
          "text": [
            "(327, 10)\n"
          ]
        }
      ]
    },
    {
      "cell_type": "code",
      "source": [
        "PC_values = np.arange(principal.n_components_) + 1\n",
        "plt.plot(PC_values, principal.explained_variance_ratio_, 'o-', linewidth=2, color='blue')\n",
        "plt.title('Scree Plot')\n",
        "plt.xlabel('Principal Component')\n",
        "plt.ylabel('Variance Explained')\n",
        "plt.show()"
      ],
      "metadata": {
        "colab": {
          "base_uri": "https://localhost:8080/",
          "height": 472
        },
        "id": "KI5a-QFa3w8h",
        "outputId": "6c658545-bd75-4a19-e8c4-b782df4bc115"
      },
      "execution_count": null,
      "outputs": [
        {
          "output_type": "display_data",
          "data": {
            "text/plain": [
              "<Figure size 640x480 with 1 Axes>"
            ],
            "image/png": "[encoded data removed]"
          },
          "metadata": {}
        }
      ]
    },
    {
      "cell_type": "code",
      "source": [
        "print(principal.explained_variance_ratio_)"
      ],
      "metadata": {
        "colab": {
          "base_uri": "https://localhost:8080/"
        },
        "id": "TDUIj1bL3zGR",
        "outputId": "50d988eb-98f6-44cf-d53c-3b981634746b"
      },
      "execution_count": null,
      "outputs": [
        {
          "output_type": "stream",
          "name": "stdout",
          "text": [
            "[0.32632268 0.20304494 0.07124396 0.0492901  0.0419912  0.03299436\n",
            " 0.03177976 0.0311111  0.03021016 0.02942125]\n"
          ]
        }
      ]
    },
    {
      "cell_type": "code",
      "source": [
        "# Set the n_components=3\n",
        "principal=PCA(n_components=3)\n",
        "principal.fit(Scaled_data)\n",
        "x=principal.transform(Scaled_data)\n",
        " \n",
        "# Check the dimensions of data after PCA\n",
        "print(x.shape)"
      ],
      "metadata": {
        "colab": {
          "base_uri": "https://localhost:8080/"
        },
        "id": "7VDIV2jd32uI",
        "outputId": "0647a322-98b9-4587-f768-fc9800a33a78"
      },
      "execution_count": null,
      "outputs": [
        {
          "output_type": "stream",
          "name": "stdout",
          "text": [
            "(327, 3)\n"
          ]
        }
      ]
    },
    {
      "cell_type": "code",
      "source": [
        "X_pca = pd.DataFrame(x)"
      ],
      "metadata": {
        "id": "c4olozSh34sw"
      },
      "execution_count": null,
      "outputs": []
    },
    {
      "cell_type": "code",
      "source": [
        "X_pca"
      ],
      "metadata": {
        "colab": {
          "base_uri": "https://localhost:8080/",
          "height": 423
        },
        "id": "lbPDvINy36kA",
        "outputId": "2447393f-3cdc-47c3-fa1e-eff34e0fd273"
      },
      "execution_count": null,
      "outputs": [
        {
          "output_type": "execute_result",
          "data": {
            "text/plain": [
              "             0         1         2\n",
              "0    10.630049 -3.076143  4.335732\n",
              "1    -0.673258 -1.190010  3.004476\n",
              "2    -2.321932 -2.895280 -1.642231\n",
              "3    -1.824253 -2.672141 -1.699312\n",
              "4    -0.559405 -1.644903  0.514443\n",
              "..         ...       ...       ...\n",
              "322  -2.238483 -1.123610  0.371333\n",
              "323  -3.464332 -0.101958  0.536078\n",
              "324  -1.289547 -3.714710 -1.383543\n",
              "325  -1.054108 -2.021309  0.216643\n",
              "326  -0.023796  6.319908 -1.667710\n",
              "\n",
              "[327 rows x 3 columns]"
            ],
            "text/html": [
              "\n",
              "  <div id=\"df-043dbf56-8077-43c1-82c2-cbb46a700b1f\">\n",
              "    <div class=\"colab-df-container\">\n",
              "      <div>\n",
              "<style scoped>\n",
              "    .dataframe tbody tr th:only-of-type {\n",
              "        vertical-align: middle;\n",
              "    }\n",
              "\n",
              "    .dataframe tbody tr th {\n",
              "        vertical-align: top;\n",
              "    }\n",
              "\n",
              "    .dataframe thead th {\n",
              "        text-align: right;\n",
              "    }\n",
              "</style>\n",
              "<table border=\"1\" class=\"dataframe\">\n",
              "  <thead>\n",
              "    <tr style=\"text-align: right;\">\n",
              "      <th></th>\n",
              "      <th>0</th>\n",
              "      <th>1</th>\n",
              "      <th>2</th>\n",
              "    </tr>\n",
              "  </thead>\n",
              "  <tbody>\n",
              "    <tr>\n",
              "      <th>0</th>\n",
              "      <td>10.630049</td>\n",
              "      <td>-3.076143</td>\n",
              "      <td>4.335732</td>\n",
              "    </tr>\n",
              "    <tr>\n",
              "      <th>1</th>\n",
              "      <td>-0.673258</td>\n",
              "      <td>-1.190010</td>\n",
              "      <td>3.004476</td>\n",
              "    </tr>\n",
              "    <tr>\n",
              "      <th>2</th>\n",
              "      <td>-2.321932</td>\n",
              "      <td>-2.895280</td>\n",
              "      <td>-1.642231</td>\n",
              "    </tr>\n",
              "    <tr>\n",
              "      <th>3</th>\n",
              "      <td>-1.824253</td>\n",
              "      <td>-2.672141</td>\n",
              "      <td>-1.699312</td>\n",
              "    </tr>\n",
              "    <tr>\n",
              "      <th>4</th>\n",
              "      <td>-0.559405</td>\n",
              "      <td>-1.644903</td>\n",
              "      <td>0.514443</td>\n",
              "    </tr>\n",
              "    <tr>\n",
              "      <th>...</th>\n",
              "      <td>...</td>\n",
              "      <td>...</td>\n",
              "      <td>...</td>\n",
              "    </tr>\n",
              "    <tr>\n",
              "      <th>322</th>\n",
              "      <td>-2.238483</td>\n",
              "      <td>-1.123610</td>\n",
              "      <td>0.371333</td>\n",
              "    </tr>\n",
              "    <tr>\n",
              "      <th>323</th>\n",
              "      <td>-3.464332</td>\n",
              "      <td>-0.101958</td>\n",
              "      <td>0.536078</td>\n",
              "    </tr>\n",
              "    <tr>\n",
              "      <th>324</th>\n",
              "      <td>-1.289547</td>\n",
              "      <td>-3.714710</td>\n",
              "      <td>-1.383543</td>\n",
              "    </tr>\n",
              "    <tr>\n",
              "      <th>325</th>\n",
              "      <td>-1.054108</td>\n",
              "      <td>-2.021309</td>\n",
              "      <td>0.216643</td>\n",
              "    </tr>\n",
              "    <tr>\n",
              "      <th>326</th>\n",
              "      <td>-0.023796</td>\n",
              "      <td>6.319908</td>\n",
              "      <td>-1.667710</td>\n",
              "    </tr>\n",
              "  </tbody>\n",
              "</table>\n",
              "<p>327 rows × 3 columns</p>\n",
              "</div>\n",
              "      <button class=\"colab-df-convert\" onclick=\"convertToInteractive('df-043dbf56-8077-43c1-82c2-cbb46a700b1f')\"\n",
              "              title=\"Convert this dataframe to an interactive table.\"\n",
              "              style=\"display:none;\">\n",
              "        \n",
              "  <svg xmlns=\"http://www.w3.org/2000/svg\" height=\"24px\"viewBox=\"0 0 24 24\"\n",
              "       width=\"24px\">\n",
              "    <path d=\"M0 0h24v24H0V0z\" fill=\"none\"/>\n",
              "    <path d=\"M18.56 5.44l.94 2.06.94-2.06 2.06-.94-2.06-.94-.94-2.06-.94 2.06-2.06.94zm-11 1L8.5 8.5l.94-2.06 2.06-.94-2.06-.94L8.5 2.5l-.94 2.06-2.06.94zm10 10l.94 2.06.94-2.06 2.06-.94-2.06-.94-.94-2.06-.94 2.06-2.06.94z\"/><path d=\"M17.41 7.96l-1.37-1.37c-.4-.4-.92-.59-1.43-.59-.52 0-1.04.2-1.43.59L10.3 9.45l-7.72 7.72c-.78.78-.78 2.05 0 2.83L4 21.41c.39.39.9.59 1.41.59.51 0 1.02-.2 1.41-.59l7.78-7.78 2.81-2.81c.8-.78.8-2.07 0-2.86zM5.41 20L4 18.59l7.72-7.72 1.47 1.35L5.41 20z\"/>\n",
              "  </svg>\n",
              "      </button>\n",
              "      \n",
              "  <style>\n",
              "    .colab-df-container {\n",
              "      display:flex;\n",
              "      flex-wrap:wrap;\n",
              "      gap: 12px;\n",
              "    }\n",
              "\n",
              "    .colab-df-convert {\n",
              "      background-color: #E8F0FE;\n",
              "      border: none;\n",
              "      border-radius: 50%;\n",
              "      cursor: pointer;\n",
              "      display: none;\n",
              "      fill: #1967D2;\n",
              "      height: 32px;\n",
              "      padding: 0 0 0 0;\n",
              "      width: 32px;\n",
              "    }\n",
              "\n",
              "    .colab-df-convert:hover {\n",
              "      background-color: #E2EBFA;\n",
              "      box-shadow: 0px 1px 2px rgba(60, 64, 67, 0.3), 0px 1px 3px 1px rgba(60, 64, 67, 0.15);\n",
              "      fill: #174EA6;\n",
              "    }\n",
              "\n",
              "    [theme=dark] .colab-df-convert {\n",
              "      background-color: #3B4455;\n",
              "      fill: #D2E3FC;\n",
              "    }\n",
              "\n",
              "    [theme=dark] .colab-df-convert:hover {\n",
              "      background-color: #434B5C;\n",
              "      box-shadow: 0px 1px 3px 1px rgba(0, 0, 0, 0.15);\n",
              "      filter: drop-shadow(0px 1px 2px rgba(0, 0, 0, 0.3));\n",
              "      fill: #FFFFFF;\n",
              "    }\n",
              "  </style>\n",
              "\n",
              "      <script>\n",
              "        const buttonEl =\n",
              "          document.querySelector('#df-043dbf56-8077-43c1-82c2-cbb46a700b1f button.colab-df-convert');\n",
              "        buttonEl.style.display =\n",
              "          google.colab.kernel.accessAllowed ? 'block' : 'none';\n",
              "\n",
              "        async function convertToInteractive(key) {\n",
              "          const element = document.querySelector('#df-043dbf56-8077-43c1-82c2-cbb46a700b1f');\n",
              "          const dataTable =\n",
              "            await google.colab.kernel.invokeFunction('convertToInteractive',\n",
              "                                                     [key], {});\n",
              "          if (!dataTable) return;\n",
              "\n",
              "          const docLinkHtml = 'Like what you see? Visit the ' +\n",
              "            '<a target=\"_blank\" href=https://colab.research.google.com/notebooks/data_table.ipynb>data table notebook</a>'\n",
              "            + ' to learn more about interactive tables.';\n",
              "          element.innerHTML = '';\n",
              "          dataTable['output_type'] = 'display_data';\n",
              "          await google.colab.output.renderOutput(dataTable, element);\n",
              "          const docLink = document.createElement('div');\n",
              "          docLink.innerHTML = docLinkHtml;\n",
              "          element.appendChild(docLink);\n",
              "        }\n",
              "      </script>\n",
              "    </div>\n",
              "  </div>\n",
              "  "
            ]
          },
          "metadata": {},
          "execution_count": 30
        }
      ]
    },
    {
      "cell_type": "code",
      "source": [
        "#Train test train_test_split\n",
        "X_train_pca, X_test_pca, y_train_pca, y_test_pca = train_test_split(X_pca , y, test_size=0.30, random_state=24)"
      ],
      "metadata": {
        "id": "oa5lmKg_38iw"
      },
      "execution_count": null,
      "outputs": []
    },
    {
      "cell_type": "code",
      "source": [
        "results = []\n",
        "for pipe ,model in pipelines:\n",
        "    model.fit(X_train_pca,y_train_pca)\n",
        "    accuracy = metrics.accuracy_score(y_test_pca, model.predict(X_test_pca))\n",
        "    y_pred_proba = model.predict_proba(X_test_pca)\n",
        "    auc = metrics.roc_auc_score(y_test_pca, y_pred_proba, multi_class='ovr')\n",
        "    msg = \"%s_pca: (accuracy) %f (auc) %g \" % (pipe,accuracy,auc)\n",
        "    print(msg)"
      ],
      "metadata": {
        "colab": {
          "base_uri": "https://localhost:8080/"
        },
        "id": "d83gm0dC3-NY",
        "outputId": "2b7e698b-3588-47d1-9748-c2213441ab9b"
      },
      "execution_count": null,
      "outputs": [
        {
          "output_type": "stream",
          "name": "stdout",
          "text": [
            "scaledLR_pca: (accuracy) 0.272727 (auc) 0.658799 \n",
            "scaledDT_pca: (accuracy) 0.282828 (auc) 0.562566 \n",
            "scaledRF_pca: (accuracy) 0.303030 (auc) 0.687984 \n",
            "scaledKNN_pca: (accuracy) 0.262626 (auc) 0.61615 \n",
            "scaledSVC_pca: (accuracy) 0.262626 (auc) 0.667278 \n",
            "scaledLDA_pca: (accuracy) 0.282828 (auc) 0.654588 \n"
          ]
        }
      ]
    },
    {
      "cell_type": "markdown",
      "source": [
        "###Lasso"
      ],
      "metadata": {
        "id": "Q4W6n43c4IzJ"
      }
    },
    {
      "cell_type": "code",
      "source": [
        "df_lasso = df_cat.copy()"
      ],
      "metadata": {
        "id": "KLdG3YSp4BSg"
      },
      "execution_count": null,
      "outputs": []
    },
    {
      "cell_type": "code",
      "source": [
        "df_lasso['Salary_Cat'].replace(['Unsold','One', 'Two', 'Three', 'Four', 'Five', 'Six', 'Seven'], [0,1,2,3,4,5,6,7], inplace = True)"
      ],
      "metadata": {
        "id": "63WUwBH24Lk4"
      },
      "execution_count": null,
      "outputs": []
    },
    {
      "cell_type": "code",
      "source": [
        "import numpy as np\n",
        "from sklearn.preprocessing import StandardScaler\n",
        "from sklearn.pipeline import Pipeline\n",
        "from sklearn.model_selection import train_test_split, GridSearchCV\n",
        "from sklearn.linear_model import Lasso"
      ],
      "metadata": {
        "id": "F6N6fk3u4Nkh"
      },
      "execution_count": null,
      "outputs": []
    },
    {
      "cell_type": "code",
      "source": [
        "X_lasso = df_lasso.drop(['Salaries (lakh)', 'Salary_Cat'], axis = 1)\n",
        "y_lasso = df_lasso['Salary_Cat']"
      ],
      "metadata": {
        "id": "2_PNA4744Nho"
      },
      "execution_count": null,
      "outputs": []
    },
    {
      "cell_type": "code",
      "source": [
        "X_train_lasso, X_test_lasso, y_train_lasso, y_test_lasso = train_test_split(X_lasso, y_lasso, test_size=0.33, random_state=24)"
      ],
      "metadata": {
        "id": "xG4NnhDQ4NGI"
      },
      "execution_count": null,
      "outputs": []
    },
    {
      "cell_type": "code",
      "source": [
        "features = X_train_lasso.columns.values.tolist() "
      ],
      "metadata": {
        "id": "0nGUAVit4TUg"
      },
      "execution_count": null,
      "outputs": []
    },
    {
      "cell_type": "code",
      "source": [
        "pipeline = Pipeline([\n",
        "                     ('scaler',StandardScaler()),\n",
        "                     ('model',Lasso())\n",
        "])"
      ],
      "metadata": {
        "id": "dYZ8TqD94UAQ"
      },
      "execution_count": null,
      "outputs": []
    },
    {
      "cell_type": "code",
      "source": [
        "# optimize the α hyperparameter of Lasso regression\n",
        "from sklearn.model_selection import GridSearchCV\n",
        "search = GridSearchCV(pipeline,\n",
        "                      {'model__alpha':np.arange(0.1,10,0.1)},\n",
        "                      cv = 5, scoring=\"neg_mean_squared_error\",verbose=3\n",
        ")"
      ],
      "metadata": {
        "id": "6vpK0I8l4T84"
      },
      "execution_count": null,
      "outputs": []
    },
    {
      "cell_type": "code",
      "source": [
        "from sklearn import linear_model\n",
        "regressor = linear_model.Lasso(alpha=5000,\n",
        "                               positive=True,\n",
        "                               fit_intercept=False, \n",
        "                               max_iter=1000,\n",
        "                               tol=0.0001)\n",
        "regressor.fit(X_train_lasso, y_train_lasso)"
      ],
      "metadata": {
        "colab": {
          "base_uri": "https://localhost:8080/",
          "height": 74
        },
        "id": "SppL2RTg4a_A",
        "outputId": "9fbe6fd3-c8fe-4ee1-f973-1ab0d3f7ff6d"
      },
      "execution_count": null,
      "outputs": [
        {
          "output_type": "execute_result",
          "data": {
            "text/plain": [
              "Lasso(alpha=5000, fit_intercept=False, positive=True)"
            ],
            "text/html": [
              "<style>#sk-container-id-1 {color: black;background-color: white;}#sk-container-id-1 pre{padding: 0;}#sk-container-id-1 div.sk-toggleable {background-color: white;}#sk-container-id-1 label.sk-toggleable__label {cursor: pointer;display: block;width: 100%;margin-bottom: 0;padding: 0.3em;box-sizing: border-box;text-align: center;}#sk-container-id-1 label.sk-toggleable__label-arrow:before {content: \"▸\";float: left;margin-right: 0.25em;color: #696969;}#sk-container-id-1 label.sk-toggleable__label-arrow:hover:before {color: black;}#sk-container-id-1 div.sk-estimator:hover label.sk-toggleable__label-arrow:before {color: black;}#sk-container-id-1 div.sk-toggleable__content {max-height: 0;max-width: 0;overflow: hidden;text-align: left;background-color: #f0f8ff;}#sk-container-id-1 div.sk-toggleable__content pre {margin: 0.2em;color: black;border-radius: 0.25em;background-color: #f0f8ff;}#sk-container-id-1 input.sk-toggleable__control:checked~div.sk-toggleable__content {max-height: 200px;max-width: 100%;overflow: auto;}#sk-container-id-1 input.sk-toggleable__control:checked~label.sk-toggleable__label-arrow:before {content: \"▾\";}#sk-container-id-1 div.sk-estimator input.sk-toggleable__control:checked~label.sk-toggleable__label {background-color: #d4ebff;}#sk-container-id-1 div.sk-label input.sk-toggleable__control:checked~label.sk-toggleable__label {background-color: #d4ebff;}#sk-container-id-1 input.sk-hidden--visually {border: 0;clip: rect(1px 1px 1px 1px);clip: rect(1px, 1px, 1px, 1px);height: 1px;margin: -1px;overflow: hidden;padding: 0;position: absolute;width: 1px;}#sk-container-id-1 div.sk-estimator {font-family: monospace;background-color: #f0f8ff;border: 1px dotted black;border-radius: 0.25em;box-sizing: border-box;margin-bottom: 0.5em;}#sk-container-id-1 div.sk-estimator:hover {background-color: #d4ebff;}#sk-container-id-1 div.sk-parallel-item::after {content: \"\";width: 100%;border-bottom: 1px solid gray;flex-grow: 1;}#sk-container-id-1 div.sk-label:hover label.sk-toggleable__label {background-color: #d4ebff;}#sk-container-id-1 div.sk-serial::before {content: \"\";position: absolute;border-left: 1px solid gray;box-sizing: border-box;top: 0;bottom: 0;left: 50%;z-index: 0;}#sk-container-id-1 div.sk-serial {display: flex;flex-direction: column;align-items: center;background-color: white;padding-right: 0.2em;padding-left: 0.2em;position: relative;}#sk-container-id-1 div.sk-item {position: relative;z-index: 1;}#sk-container-id-1 div.sk-parallel {display: flex;align-items: stretch;justify-content: center;background-color: white;position: relative;}#sk-container-id-1 div.sk-item::before, #sk-container-id-1 div.sk-parallel-item::before {content: \"\";position: absolute;border-left: 1px solid gray;box-sizing: border-box;top: 0;bottom: 0;left: 50%;z-index: -1;}#sk-container-id-1 div.sk-parallel-item {display: flex;flex-direction: column;z-index: 1;position: relative;background-color: white;}#sk-container-id-1 div.sk-parallel-item:first-child::after {align-self: flex-end;width: 50%;}#sk-container-id-1 div.sk-parallel-item:last-child::after {align-self: flex-start;width: 50%;}#sk-container-id-1 div.sk-parallel-item:only-child::after {width: 0;}#sk-container-id-1 div.sk-dashed-wrapped {border: 1px dashed gray;margin: 0 0.4em 0.5em 0.4em;box-sizing: border-box;padding-bottom: 0.4em;background-color: white;}#sk-container-id-1 div.sk-label label {font-family: monospace;font-weight: bold;display: inline-block;line-height: 1.2em;}#sk-container-id-1 div.sk-label-container {text-align: center;}#sk-container-id-1 div.sk-container {/* jupyter's `normalize.less` sets `[hidden] { display: none; }` but bootstrap.min.css set `[hidden] { display: none !important; }` so we also need the `!important` here to be able to override the default hidden behavior on the sphinx rendered scikit-learn.org. See: https://github.com/scikit-learn/scikit-learn/issues/21755 */display: inline-block !important;position: relative;}#sk-container-id-1 div.sk-text-repr-fallback {display: none;}</style><div id=\"sk-container-id-1\" class=\"sk-top-container\"><div class=\"sk-text-repr-fallback\"><pre>Lasso(alpha=5000, fit_intercept=False, positive=True)</pre><b>In a Jupyter environment, please rerun this cell to show the HTML representation or trust the notebook. <br />On GitHub, the HTML representation is unable to render, please try loading this page with nbviewer.org.</b></div><div class=\"sk-container\" hidden><div class=\"sk-item\"><div class=\"sk-estimator sk-toggleable\"><input class=\"sk-toggleable__control sk-hidden--visually\" id=\"sk-estimator-id-1\" type=\"checkbox\" checked><label for=\"sk-estimator-id-1\" class=\"sk-toggleable__label sk-toggleable__label-arrow\">Lasso</label><div class=\"sk-toggleable__content\"><pre>Lasso(alpha=5000, fit_intercept=False, positive=True)</pre></div></div></div></div></div>"
            ]
          },
          "metadata": {},
          "execution_count": 41
        }
      ]
    },
    {
      "cell_type": "code",
      "source": [
        "search.fit(X_train_lasso,y_train_lasso)"
      ],
      "metadata": {
        "colab": {
          "base_uri": "https://localhost:8080/",
          "height": 1000
        },
        "id": "Wqyyregw4qTg",
        "outputId": "8659dc84-cf93-4880-8d8d-d7933b21519d"
      },
      "execution_count": null,
      "outputs": [
        {
          "output_type": "stream",
          "name": "stdout",
          "text": [
            "Fitting 5 folds for each of 99 candidates, totalling 495 fits\n",
            "[CV 1/5] END .................model__alpha=0.1;, score=-5.085 total time=   0.0s\n",
            "[CV 2/5] END .................model__alpha=0.1;, score=-5.845 total time=   0.0s\n",
            "[CV 3/5] END .................model__alpha=0.1;, score=-3.503 total time=   0.0s\n",
            "[CV 4/5] END .................model__alpha=0.1;, score=-4.269 total time=   0.0s\n",
            "[CV 5/5] END .................model__alpha=0.1;, score=-4.240 total time=   0.0s\n",
            "[CV 1/5] END .................model__alpha=0.2;, score=-5.072 total time=   0.0s\n",
            "[CV 2/5] END .................model__alpha=0.2;, score=-5.787 total time=   0.0s\n",
            "[CV 3/5] END .................model__alpha=0.2;, score=-3.990 total time=   0.0s\n",
            "[CV 4/5] END .................model__alpha=0.2;, score=-4.224 total time=   0.0s\n",
            "[CV 5/5] END .................model__alpha=0.2;, score=-4.534 total time=   0.0s\n",
            "[CV 1/5] END .model__alpha=0.30000000000000004;, score=-4.838 total time=   0.0s\n",
            "[CV 2/5] END .model__alpha=0.30000000000000004;, score=-5.727 total time=   0.0s\n",
            "[CV 3/5] END .model__alpha=0.30000000000000004;, score=-4.246 total time=   0.0s\n",
            "[CV 4/5] END .model__alpha=0.30000000000000004;, score=-4.365 total time=   0.0s\n",
            "[CV 5/5] END .model__alpha=0.30000000000000004;, score=-4.748 total time=   0.0s\n",
            "[CV 1/5] END .................model__alpha=0.4;, score=-4.870 total time=   0.0s\n",
            "[CV 2/5] END .................model__alpha=0.4;, score=-5.709 total time=   0.0s\n",
            "[CV 3/5] END .................model__alpha=0.4;, score=-4.553 total time=   0.1s\n",
            "[CV 4/5] END .................model__alpha=0.4;, score=-4.548 total time=   0.0s\n",
            "[CV 5/5] END .................model__alpha=0.4;, score=-5.017 total time=   0.0s\n",
            "[CV 1/5] END .................model__alpha=0.5;, score=-5.114 total time=   0.0s\n",
            "[CV 2/5] END .................model__alpha=0.5;, score=-5.881 total time=   0.0s\n",
            "[CV 3/5] END .................model__alpha=0.5;, score=-4.805 total time=   0.0s\n",
            "[CV 4/5] END .................model__alpha=0.5;, score=-4.811 total time=   0.0s\n",
            "[CV 5/5] END .................model__alpha=0.5;, score=-5.288 total time=   0.0s\n",
            "[CV 1/5] END .................model__alpha=0.6;, score=-5.356 total time=   0.0s\n",
            "[CV 2/5] END .................model__alpha=0.6;, score=-5.907 total time=   0.0s\n",
            "[CV 3/5] END .................model__alpha=0.6;, score=-4.902 total time=   0.0s\n",
            "[CV 4/5] END .................model__alpha=0.6;, score=-5.055 total time=   0.0s\n",
            "[CV 5/5] END .................model__alpha=0.6;, score=-5.420 total time=   0.0s\n",
            "[CV 1/5] END ..model__alpha=0.7000000000000001;, score=-5.570 total time=   0.0s\n",
            "[CV 2/5] END ..model__alpha=0.7000000000000001;, score=-5.890 total time=   0.0s\n",
            "[CV 3/5] END ..model__alpha=0.7000000000000001;, score=-5.019 total time=   0.0s\n",
            "[CV 4/5] END ..model__alpha=0.7000000000000001;, score=-5.276 total time=   0.0s\n",
            "[CV 5/5] END ..model__alpha=0.7000000000000001;, score=-5.570 total time=   0.0s\n",
            "[CV 1/5] END .................model__alpha=0.8;, score=-5.808 total time=   0.0s\n",
            "[CV 2/5] END .................model__alpha=0.8;, score=-5.900 total time=   0.0s\n",
            "[CV 3/5] END .................model__alpha=0.8;, score=-5.157 total time=   0.0s\n",
            "[CV 4/5] END .................model__alpha=0.8;, score=-5.494 total time=   0.0s\n",
            "[CV 5/5] END .................model__alpha=0.8;, score=-5.734 total time=   0.0s\n",
            "[CV 1/5] END .................model__alpha=0.9;, score=-6.067 total time=   0.0s\n",
            "[CV 2/5] END .................model__alpha=0.9;, score=-5.931 total time=   0.0s\n",
            "[CV 3/5] END .................model__alpha=0.9;, score=-5.315 total time=   0.0s\n",
            "[CV 4/5] END .................model__alpha=0.9;, score=-5.730 total time=   0.0s\n",
            "[CV 5/5] END .................model__alpha=0.9;, score=-5.916 total time=   0.0s\n",
            "[CV 1/5] END .................model__alpha=1.0;, score=-6.346 total time=   0.0s\n",
            "[CV 2/5] END .................model__alpha=1.0;, score=-5.981 total time=   0.0s\n",
            "[CV 3/5] END .................model__alpha=1.0;, score=-5.493 total time=   0.0s\n",
            "[CV 4/5] END .................model__alpha=1.0;, score=-5.987 total time=   0.0s\n",
            "[CV 5/5] END .................model__alpha=1.0;, score=-6.117 total time=   0.0s\n",
            "[CV 1/5] END .................model__alpha=1.1;, score=-6.646 total time=   0.0s\n",
            "[CV 2/5] END .................model__alpha=1.1;, score=-6.052 total time=   0.0s\n",
            "[CV 3/5] END .................model__alpha=1.1;, score=-5.691 total time=   0.0s\n",
            "[CV 4/5] END .................model__alpha=1.1;, score=-6.266 total time=   0.0s\n",
            "[CV 5/5] END .................model__alpha=1.1;, score=-6.336 total time=   0.0s\n",
            "[CV 1/5] END ..model__alpha=1.2000000000000002;, score=-6.777 total time=   0.0s\n",
            "[CV 2/5] END ..model__alpha=1.2000000000000002;, score=-6.143 total time=   0.0s\n",
            "[CV 3/5] END ..model__alpha=1.2000000000000002;, score=-5.909 total time=   0.0s\n",
            "[CV 4/5] END ..model__alpha=1.2000000000000002;, score=-6.464 total time=   0.0s\n",
            "[CV 5/5] END ..model__alpha=1.2000000000000002;, score=-6.573 total time=   0.0s\n",
            "[CV 1/5] END ..model__alpha=1.3000000000000003;, score=-6.777 total time=   0.0s\n",
            "[CV 2/5] END ..model__alpha=1.3000000000000003;, score=-6.254 total time=   0.0s\n",
            "[CV 3/5] END ..model__alpha=1.3000000000000003;, score=-6.005 total time=   0.0s\n",
            "[CV 4/5] END ..model__alpha=1.3000000000000003;, score=-6.464 total time=   0.1s\n",
            "[CV 5/5] END ..model__alpha=1.3000000000000003;, score=-6.621 total time=   0.0s\n",
            "[CV 1/5] END ..model__alpha=1.4000000000000001;, score=-6.777 total time=   0.0s\n",
            "[CV 2/5] END ..model__alpha=1.4000000000000001;, score=-6.342 total time=   0.0s\n",
            "[CV 3/5] END ..model__alpha=1.4000000000000001;, score=-6.005 total time=   0.0s\n",
            "[CV 4/5] END ..model__alpha=1.4000000000000001;, score=-6.464 total time=   0.0s\n",
            "[CV 5/5] END ..model__alpha=1.4000000000000001;, score=-6.621 total time=   0.0s\n",
            "[CV 1/5] END ..model__alpha=1.5000000000000002;, score=-6.777 total time=   0.0s\n",
            "[CV 2/5] END ..model__alpha=1.5000000000000002;, score=-6.342 total time=   0.0s\n",
            "[CV 3/5] END ..model__alpha=1.5000000000000002;, score=-6.005 total time=   0.0s\n",
            "[CV 4/5] END ..model__alpha=1.5000000000000002;, score=-6.464 total time=   0.0s\n",
            "[CV 5/5] END ..model__alpha=1.5000000000000002;, score=-6.621 total time=   0.0s\n",
            "[CV 1/5] END .................model__alpha=1.6;, score=-6.777 total time=   0.0s\n",
            "[CV 2/5] END .................model__alpha=1.6;, score=-6.342 total time=   0.0s\n",
            "[CV 3/5] END .................model__alpha=1.6;, score=-6.005 total time=   0.0s\n",
            "[CV 4/5] END .................model__alpha=1.6;, score=-6.464 total time=   0.0s\n",
            "[CV 5/5] END .................model__alpha=1.6;, score=-6.621 total time=   0.0s\n",
            "[CV 1/5] END ..model__alpha=1.7000000000000002;, score=-6.777 total time=   0.0s\n",
            "[CV 2/5] END ..model__alpha=1.7000000000000002;, score=-6.342 total time=   0.0s\n",
            "[CV 3/5] END ..model__alpha=1.7000000000000002;, score=-6.005 total time=   0.0s\n",
            "[CV 4/5] END ..model__alpha=1.7000000000000002;, score=-6.464 total time=   0.0s\n",
            "[CV 5/5] END ..model__alpha=1.7000000000000002;, score=-6.621 total time=   0.0s\n",
            "[CV 1/5] END ..model__alpha=1.8000000000000003;, score=-6.777 total time=   0.0s\n",
            "[CV 2/5] END ..model__alpha=1.8000000000000003;, score=-6.342 total time=   0.0s\n",
            "[CV 3/5] END ..model__alpha=1.8000000000000003;, score=-6.005 total time=   0.0s\n",
            "[CV 4/5] END ..model__alpha=1.8000000000000003;, score=-6.464 total time=   0.0s\n",
            "[CV 5/5] END ..model__alpha=1.8000000000000003;, score=-6.621 total time=   0.0s\n",
            "[CV 1/5] END ..model__alpha=1.9000000000000001;, score=-6.777 total time=   0.0s\n",
            "[CV 2/5] END ..model__alpha=1.9000000000000001;, score=-6.342 total time=   0.0s\n",
            "[CV 3/5] END ..model__alpha=1.9000000000000001;, score=-6.005 total time=   0.0s\n",
            "[CV 4/5] END ..model__alpha=1.9000000000000001;, score=-6.464 total time=   0.0s\n",
            "[CV 5/5] END ..model__alpha=1.9000000000000001;, score=-6.621 total time=   0.0s\n",
            "[CV 1/5] END .................model__alpha=2.0;, score=-6.777 total time=   0.0s\n",
            "[CV 2/5] END .................model__alpha=2.0;, score=-6.342 total time=   0.0s\n",
            "[CV 3/5] END .................model__alpha=2.0;, score=-6.005 total time=   0.0s\n",
            "[CV 4/5] END .................model__alpha=2.0;, score=-6.464 total time=   0.0s\n",
            "[CV 5/5] END .................model__alpha=2.0;, score=-6.621 total time=   0.0s\n",
            "[CV 1/5] END .................model__alpha=2.1;, score=-6.777 total time=   0.0s\n",
            "[CV 2/5] END .................model__alpha=2.1;, score=-6.342 total time=   0.0s\n",
            "[CV 3/5] END .................model__alpha=2.1;, score=-6.005 total time=   0.0s\n",
            "[CV 4/5] END .................model__alpha=2.1;, score=-6.464 total time=   0.0s\n",
            "[CV 5/5] END .................model__alpha=2.1;, score=-6.621 total time=   0.0s\n",
            "[CV 1/5] END .................model__alpha=2.2;, score=-6.777 total time=   0.0s\n",
            "[CV 2/5] END .................model__alpha=2.2;, score=-6.342 total time=   0.0s\n",
            "[CV 3/5] END .................model__alpha=2.2;, score=-6.005 total time=   0.0s\n",
            "[CV 4/5] END .................model__alpha=2.2;, score=-6.464 total time=   0.0s\n",
            "[CV 5/5] END .................model__alpha=2.2;, score=-6.621 total time=   0.0s\n",
            "[CV 1/5] END ..model__alpha=2.3000000000000003;, score=-6.777 total time=   0.0s\n",
            "[CV 2/5] END ..model__alpha=2.3000000000000003;, score=-6.342 total time=   0.0s\n",
            "[CV 3/5] END ..model__alpha=2.3000000000000003;, score=-6.005 total time=   0.0s\n",
            "[CV 4/5] END ..model__alpha=2.3000000000000003;, score=-6.464 total time=   0.0s\n",
            "[CV 5/5] END ..model__alpha=2.3000000000000003;, score=-6.621 total time=   0.0s\n",
            "[CV 1/5] END ..model__alpha=2.4000000000000004;, score=-6.777 total time=   0.0s\n",
            "[CV 2/5] END ..model__alpha=2.4000000000000004;, score=-6.342 total time=   0.0s\n",
            "[CV 3/5] END ..model__alpha=2.4000000000000004;, score=-6.005 total time=   0.0s\n",
            "[CV 4/5] END ..model__alpha=2.4000000000000004;, score=-6.464 total time=   0.0s\n",
            "[CV 5/5] END ..model__alpha=2.4000000000000004;, score=-6.621 total time=   0.0s\n",
            "[CV 1/5] END ..model__alpha=2.5000000000000004;, score=-6.777 total time=   0.0s\n",
            "[CV 2/5] END ..model__alpha=2.5000000000000004;, score=-6.342 total time=   0.0s\n",
            "[CV 3/5] END ..model__alpha=2.5000000000000004;, score=-6.005 total time=   0.0s\n",
            "[CV 4/5] END ..model__alpha=2.5000000000000004;, score=-6.464 total time=   0.0s\n",
            "[CV 5/5] END ..model__alpha=2.5000000000000004;, score=-6.621 total time=   0.0s\n",
            "[CV 1/5] END .................model__alpha=2.6;, score=-6.777 total time=   0.0s\n",
            "[CV 2/5] END .................model__alpha=2.6;, score=-6.342 total time=   0.0s\n",
            "[CV 3/5] END .................model__alpha=2.6;, score=-6.005 total time=   0.0s\n",
            "[CV 4/5] END .................model__alpha=2.6;, score=-6.464 total time=   0.0s\n",
            "[CV 5/5] END .................model__alpha=2.6;, score=-6.621 total time=   0.0s\n",
            "[CV 1/5] END .................model__alpha=2.7;, score=-6.777 total time=   0.0s\n",
            "[CV 2/5] END .................model__alpha=2.7;, score=-6.342 total time=   0.0s\n",
            "[CV 3/5] END .................model__alpha=2.7;, score=-6.005 total time=   0.0s\n",
            "[CV 4/5] END .................model__alpha=2.7;, score=-6.464 total time=   0.0s\n",
            "[CV 5/5] END .................model__alpha=2.7;, score=-6.621 total time=   0.0s\n",
            "[CV 1/5] END ..model__alpha=2.8000000000000003;, score=-6.777 total time=   0.0s\n",
            "[CV 2/5] END ..model__alpha=2.8000000000000003;, score=-6.342 total time=   0.0s\n",
            "[CV 3/5] END ..model__alpha=2.8000000000000003;, score=-6.005 total time=   0.0s\n",
            "[CV 4/5] END ..model__alpha=2.8000000000000003;, score=-6.464 total time=   0.0s\n",
            "[CV 5/5] END ..model__alpha=2.8000000000000003;, score=-6.621 total time=   0.0s\n",
            "[CV 1/5] END ..model__alpha=2.9000000000000004;, score=-6.777 total time=   0.0s\n",
            "[CV 2/5] END ..model__alpha=2.9000000000000004;, score=-6.342 total time=   0.0s\n",
            "[CV 3/5] END ..model__alpha=2.9000000000000004;, score=-6.005 total time=   0.0s\n",
            "[CV 4/5] END ..model__alpha=2.9000000000000004;, score=-6.464 total time=   0.0s\n",
            "[CV 5/5] END ..model__alpha=2.9000000000000004;, score=-6.621 total time=   0.0s\n",
            "[CV 1/5] END ..model__alpha=3.0000000000000004;, score=-6.777 total time=   0.0s\n",
            "[CV 2/5] END ..model__alpha=3.0000000000000004;, score=-6.342 total time=   0.0s\n",
            "[CV 3/5] END ..model__alpha=3.0000000000000004;, score=-6.005 total time=   0.0s\n",
            "[CV 4/5] END ..model__alpha=3.0000000000000004;, score=-6.464 total time=   0.0s\n",
            "[CV 5/5] END ..model__alpha=3.0000000000000004;, score=-6.621 total time=   0.0s\n",
            "[CV 1/5] END .................model__alpha=3.1;, score=-6.777 total time=   0.0s\n",
            "[CV 2/5] END .................model__alpha=3.1;, score=-6.342 total time=   0.0s\n",
            "[CV 3/5] END .................model__alpha=3.1;, score=-6.005 total time=   0.0s\n",
            "[CV 4/5] END .................model__alpha=3.1;, score=-6.464 total time=   0.0s\n",
            "[CV 5/5] END .................model__alpha=3.1;, score=-6.621 total time=   0.0s\n",
            "[CV 1/5] END .................model__alpha=3.2;, score=-6.777 total time=   0.1s\n",
            "[CV 2/5] END .................model__alpha=3.2;, score=-6.342 total time=   0.0s\n",
            "[CV 3/5] END .................model__alpha=3.2;, score=-6.005 total time=   0.0s\n",
            "[CV 4/5] END .................model__alpha=3.2;, score=-6.464 total time=   0.0s\n",
            "[CV 5/5] END .................model__alpha=3.2;, score=-6.621 total time=   0.0s\n",
            "[CV 1/5] END ..model__alpha=3.3000000000000003;, score=-6.777 total time=   0.0s\n",
            "[CV 2/5] END ..model__alpha=3.3000000000000003;, score=-6.342 total time=   0.0s\n",
            "[CV 3/5] END ..model__alpha=3.3000000000000003;, score=-6.005 total time=   0.0s\n",
            "[CV 4/5] END ..model__alpha=3.3000000000000003;, score=-6.464 total time=   0.0s\n",
            "[CV 5/5] END ..model__alpha=3.3000000000000003;, score=-6.621 total time=   0.0s\n",
            "[CV 1/5] END ..model__alpha=3.4000000000000004;, score=-6.777 total time=   0.0s\n",
            "[CV 2/5] END ..model__alpha=3.4000000000000004;, score=-6.342 total time=   0.0s\n",
            "[CV 3/5] END ..model__alpha=3.4000000000000004;, score=-6.005 total time=   0.0s\n",
            "[CV 4/5] END ..model__alpha=3.4000000000000004;, score=-6.464 total time=   0.0s\n",
            "[CV 5/5] END ..model__alpha=3.4000000000000004;, score=-6.621 total time=   0.0s\n",
            "[CV 1/5] END ..model__alpha=3.5000000000000004;, score=-6.777 total time=   0.0s\n",
            "[CV 2/5] END ..model__alpha=3.5000000000000004;, score=-6.342 total time=   0.0s\n",
            "[CV 3/5] END ..model__alpha=3.5000000000000004;, score=-6.005 total time=   0.0s\n",
            "[CV 4/5] END ..model__alpha=3.5000000000000004;, score=-6.464 total time=   0.0s\n",
            "[CV 5/5] END ..model__alpha=3.5000000000000004;, score=-6.621 total time=   0.0s\n",
            "[CV 1/5] END .................model__alpha=3.6;, score=-6.777 total time=   0.0s\n",
            "[CV 2/5] END .................model__alpha=3.6;, score=-6.342 total time=   0.0s\n",
            "[CV 3/5] END .................model__alpha=3.6;, score=-6.005 total time=   0.0s\n",
            "[CV 4/5] END .................model__alpha=3.6;, score=-6.464 total time=   0.0s\n",
            "[CV 5/5] END .................model__alpha=3.6;, score=-6.621 total time=   0.0s\n",
            "[CV 1/5] END .................model__alpha=3.7;, score=-6.777 total time=   0.0s\n",
            "[CV 2/5] END .................model__alpha=3.7;, score=-6.342 total time=   0.0s\n",
            "[CV 3/5] END .................model__alpha=3.7;, score=-6.005 total time=   0.0s\n",
            "[CV 4/5] END .................model__alpha=3.7;, score=-6.464 total time=   0.0s\n",
            "[CV 5/5] END .................model__alpha=3.7;, score=-6.621 total time=   0.0s\n",
            "[CV 1/5] END ..model__alpha=3.8000000000000003;, score=-6.777 total time=   0.0s\n",
            "[CV 2/5] END ..model__alpha=3.8000000000000003;, score=-6.342 total time=   0.0s\n",
            "[CV 3/5] END ..model__alpha=3.8000000000000003;, score=-6.005 total time=   0.0s\n",
            "[CV 4/5] END ..model__alpha=3.8000000000000003;, score=-6.464 total time=   0.0s\n",
            "[CV 5/5] END ..model__alpha=3.8000000000000003;, score=-6.621 total time=   0.0s\n",
            "[CV 1/5] END ..model__alpha=3.9000000000000004;, score=-6.777 total time=   0.0s\n",
            "[CV 2/5] END ..model__alpha=3.9000000000000004;, score=-6.342 total time=   0.0s\n",
            "[CV 3/5] END ..model__alpha=3.9000000000000004;, score=-6.005 total time=   0.0s\n",
            "[CV 4/5] END ..model__alpha=3.9000000000000004;, score=-6.464 total time=   0.0s\n",
            "[CV 5/5] END ..model__alpha=3.9000000000000004;, score=-6.621 total time=   0.0s\n",
            "[CV 1/5] END .................model__alpha=4.0;, score=-6.777 total time=   0.0s\n",
            "[CV 2/5] END .................model__alpha=4.0;, score=-6.342 total time=   0.0s\n",
            "[CV 3/5] END .................model__alpha=4.0;, score=-6.005 total time=   0.0s\n",
            "[CV 4/5] END .................model__alpha=4.0;, score=-6.464 total time=   0.0s\n",
            "[CV 5/5] END .................model__alpha=4.0;, score=-6.621 total time=   0.0s\n",
            "[CV 1/5] END .................model__alpha=4.1;, score=-6.777 total time=   0.0s\n",
            "[CV 2/5] END .................model__alpha=4.1;, score=-6.342 total time=   0.0s\n",
            "[CV 3/5] END .................model__alpha=4.1;, score=-6.005 total time=   0.0s\n",
            "[CV 4/5] END .................model__alpha=4.1;, score=-6.464 total time=   0.0s\n",
            "[CV 5/5] END .................model__alpha=4.1;, score=-6.621 total time=   0.0s\n",
            "[CV 1/5] END .................model__alpha=4.2;, score=-6.777 total time=   0.0s\n",
            "[CV 2/5] END .................model__alpha=4.2;, score=-6.342 total time=   0.0s\n",
            "[CV 3/5] END .................model__alpha=4.2;, score=-6.005 total time=   0.0s\n",
            "[CV 4/5] END .................model__alpha=4.2;, score=-6.464 total time=   0.0s\n",
            "[CV 5/5] END .................model__alpha=4.2;, score=-6.621 total time=   0.0s\n",
            "[CV 1/5] END .................model__alpha=4.3;, score=-6.777 total time=   0.0s\n",
            "[CV 2/5] END .................model__alpha=4.3;, score=-6.342 total time=   0.0s\n",
            "[CV 3/5] END .................model__alpha=4.3;, score=-6.005 total time=   0.0s\n",
            "[CV 4/5] END .................model__alpha=4.3;, score=-6.464 total time=   0.0s\n",
            "[CV 5/5] END .................model__alpha=4.3;, score=-6.621 total time=   0.0s\n",
            "[CV 1/5] END ..model__alpha=4.3999999999999995;, score=-6.777 total time=   0.0s\n",
            "[CV 2/5] END ..model__alpha=4.3999999999999995;, score=-6.342 total time=   0.0s\n",
            "[CV 3/5] END ..model__alpha=4.3999999999999995;, score=-6.005 total time=   0.0s\n",
            "[CV 4/5] END ..model__alpha=4.3999999999999995;, score=-6.464 total time=   0.0s\n",
            "[CV 5/5] END ..model__alpha=4.3999999999999995;, score=-6.621 total time=   0.0s\n",
            "[CV 1/5] END .................model__alpha=4.5;, score=-6.777 total time=   0.0s\n",
            "[CV 2/5] END .................model__alpha=4.5;, score=-6.342 total time=   0.0s\n",
            "[CV 3/5] END .................model__alpha=4.5;, score=-6.005 total time=   0.0s\n",
            "[CV 4/5] END .................model__alpha=4.5;, score=-6.464 total time=   0.0s\n",
            "[CV 5/5] END .................model__alpha=4.5;, score=-6.621 total time=   0.0s\n",
            "[CV 1/5] END .................model__alpha=4.6;, score=-6.777 total time=   0.0s\n",
            "[CV 2/5] END .................model__alpha=4.6;, score=-6.342 total time=   0.0s\n",
            "[CV 3/5] END .................model__alpha=4.6;, score=-6.005 total time=   0.0s\n",
            "[CV 4/5] END .................model__alpha=4.6;, score=-6.464 total time=   0.0s\n",
            "[CV 5/5] END .................model__alpha=4.6;, score=-6.621 total time=   0.0s\n",
            "[CV 1/5] END .................model__alpha=4.7;, score=-6.777 total time=   0.0s\n",
            "[CV 2/5] END .................model__alpha=4.7;, score=-6.342 total time=   0.0s\n",
            "[CV 3/5] END .................model__alpha=4.7;, score=-6.005 total time=   0.0s\n",
            "[CV 4/5] END .................model__alpha=4.7;, score=-6.464 total time=   0.0s\n",
            "[CV 5/5] END .................model__alpha=4.7;, score=-6.621 total time=   0.0s\n",
            "[CV 1/5] END .................model__alpha=4.8;, score=-6.777 total time=   0.0s\n",
            "[CV 2/5] END .................model__alpha=4.8;, score=-6.342 total time=   0.0s\n",
            "[CV 3/5] END .................model__alpha=4.8;, score=-6.005 total time=   0.0s\n",
            "[CV 4/5] END .................model__alpha=4.8;, score=-6.464 total time=   0.0s\n",
            "[CV 5/5] END .................model__alpha=4.8;, score=-6.621 total time=   0.0s\n",
            "[CV 1/5] END .................model__alpha=4.9;, score=-6.777 total time=   0.0s\n",
            "[CV 2/5] END .................model__alpha=4.9;, score=-6.342 total time=   0.0s\n",
            "[CV 3/5] END .................model__alpha=4.9;, score=-6.005 total time=   0.0s\n",
            "[CV 4/5] END .................model__alpha=4.9;, score=-6.464 total time=   0.0s\n",
            "[CV 5/5] END .................model__alpha=4.9;, score=-6.621 total time=   0.0s\n",
            "[CV 1/5] END .................model__alpha=5.0;, score=-6.777 total time=   0.0s\n",
            "[CV 2/5] END .................model__alpha=5.0;, score=-6.342 total time=   0.0s\n",
            "[CV 3/5] END .................model__alpha=5.0;, score=-6.005 total time=   0.0s\n",
            "[CV 4/5] END .................model__alpha=5.0;, score=-6.464 total time=   0.0s\n",
            "[CV 5/5] END .................model__alpha=5.0;, score=-6.621 total time=   0.0s\n",
            "[CV 1/5] END .................model__alpha=5.1;, score=-6.777 total time=   0.0s\n",
            "[CV 2/5] END .................model__alpha=5.1;, score=-6.342 total time=   0.0s\n",
            "[CV 3/5] END .................model__alpha=5.1;, score=-6.005 total time=   0.0s\n",
            "[CV 4/5] END .................model__alpha=5.1;, score=-6.464 total time=   0.0s\n",
            "[CV 5/5] END .................model__alpha=5.1;, score=-6.621 total time=   0.0s\n",
            "[CV 1/5] END .................model__alpha=5.2;, score=-6.777 total time=   0.0s\n",
            "[CV 2/5] END .................model__alpha=5.2;, score=-6.342 total time=   0.1s\n",
            "[CV 3/5] END .................model__alpha=5.2;, score=-6.005 total time=   0.0s\n",
            "[CV 4/5] END .................model__alpha=5.2;, score=-6.464 total time=   0.0s\n",
            "[CV 5/5] END .................model__alpha=5.2;, score=-6.621 total time=   0.0s\n",
            "[CV 1/5] END .................model__alpha=5.3;, score=-6.777 total time=   0.0s\n",
            "[CV 2/5] END .................model__alpha=5.3;, score=-6.342 total time=   0.0s\n",
            "[CV 3/5] END .................model__alpha=5.3;, score=-6.005 total time=   0.0s\n",
            "[CV 4/5] END .................model__alpha=5.3;, score=-6.464 total time=   0.0s\n",
            "[CV 5/5] END .................model__alpha=5.3;, score=-6.621 total time=   0.0s\n",
            "[CV 1/5] END .................model__alpha=5.4;, score=-6.777 total time=   0.0s\n",
            "[CV 2/5] END .................model__alpha=5.4;, score=-6.342 total time=   0.0s\n",
            "[CV 3/5] END .................model__alpha=5.4;, score=-6.005 total time=   0.0s\n",
            "[CV 4/5] END .................model__alpha=5.4;, score=-6.464 total time=   0.0s\n",
            "[CV 5/5] END .................model__alpha=5.4;, score=-6.621 total time=   0.0s\n",
            "[CV 1/5] END .................model__alpha=5.5;, score=-6.777 total time=   0.0s\n",
            "[CV 2/5] END .................model__alpha=5.5;, score=-6.342 total time=   0.0s\n",
            "[CV 3/5] END .................model__alpha=5.5;, score=-6.005 total time=   0.0s\n",
            "[CV 4/5] END .................model__alpha=5.5;, score=-6.464 total time=   0.0s\n",
            "[CV 5/5] END .................model__alpha=5.5;, score=-6.621 total time=   0.0s\n",
            "[CV 1/5] END .................model__alpha=5.6;, score=-6.777 total time=   0.0s\n",
            "[CV 2/5] END .................model__alpha=5.6;, score=-6.342 total time=   0.0s\n",
            "[CV 3/5] END .................model__alpha=5.6;, score=-6.005 total time=   0.0s\n",
            "[CV 4/5] END .................model__alpha=5.6;, score=-6.464 total time=   0.0s\n",
            "[CV 5/5] END .................model__alpha=5.6;, score=-6.621 total time=   0.0s\n",
            "[CV 1/5] END .................model__alpha=5.7;, score=-6.777 total time=   0.0s\n",
            "[CV 2/5] END .................model__alpha=5.7;, score=-6.342 total time=   0.0s\n",
            "[CV 3/5] END .................model__alpha=5.7;, score=-6.005 total time=   0.0s\n",
            "[CV 4/5] END .................model__alpha=5.7;, score=-6.464 total time=   0.0s\n",
            "[CV 5/5] END .................model__alpha=5.7;, score=-6.621 total time=   0.0s\n",
            "[CV 1/5] END .................model__alpha=5.8;, score=-6.777 total time=   0.0s\n",
            "[CV 2/5] END .................model__alpha=5.8;, score=-6.342 total time=   0.0s\n",
            "[CV 3/5] END .................model__alpha=5.8;, score=-6.005 total time=   0.0s\n",
            "[CV 4/5] END .................model__alpha=5.8;, score=-6.464 total time=   0.0s\n",
            "[CV 5/5] END .................model__alpha=5.8;, score=-6.621 total time=   0.0s\n",
            "[CV 1/5] END .................model__alpha=5.9;, score=-6.777 total time=   0.0s\n",
            "[CV 2/5] END .................model__alpha=5.9;, score=-6.342 total time=   0.0s\n",
            "[CV 3/5] END .................model__alpha=5.9;, score=-6.005 total time=   0.0s\n",
            "[CV 4/5] END .................model__alpha=5.9;, score=-6.464 total time=   0.0s\n",
            "[CV 5/5] END .................model__alpha=5.9;, score=-6.621 total time=   0.0s\n",
            "[CV 1/5] END .................model__alpha=6.0;, score=-6.777 total time=   0.0s\n",
            "[CV 2/5] END .................model__alpha=6.0;, score=-6.342 total time=   0.0s\n",
            "[CV 3/5] END .................model__alpha=6.0;, score=-6.005 total time=   0.0s\n",
            "[CV 4/5] END .................model__alpha=6.0;, score=-6.464 total time=   0.0s\n",
            "[CV 5/5] END .................model__alpha=6.0;, score=-6.621 total time=   0.0s\n",
            "[CV 1/5] END .................model__alpha=6.1;, score=-6.777 total time=   0.0s\n",
            "[CV 2/5] END .................model__alpha=6.1;, score=-6.342 total time=   0.0s\n",
            "[CV 3/5] END .................model__alpha=6.1;, score=-6.005 total time=   0.0s\n",
            "[CV 4/5] END .................model__alpha=6.1;, score=-6.464 total time=   0.0s\n",
            "[CV 5/5] END .................model__alpha=6.1;, score=-6.621 total time=   0.0s\n",
            "[CV 1/5] END .................model__alpha=6.2;, score=-6.777 total time=   0.0s\n",
            "[CV 2/5] END .................model__alpha=6.2;, score=-6.342 total time=   0.0s\n",
            "[CV 3/5] END .................model__alpha=6.2;, score=-6.005 total time=   0.0s\n",
            "[CV 4/5] END .................model__alpha=6.2;, score=-6.464 total time=   0.0s\n",
            "[CV 5/5] END .................model__alpha=6.2;, score=-6.621 total time=   0.0s\n",
            "[CV 1/5] END .................model__alpha=6.3;, score=-6.777 total time=   0.0s\n",
            "[CV 2/5] END .................model__alpha=6.3;, score=-6.342 total time=   0.0s\n",
            "[CV 3/5] END .................model__alpha=6.3;, score=-6.005 total time=   0.0s\n",
            "[CV 4/5] END .................model__alpha=6.3;, score=-6.464 total time=   0.0s\n",
            "[CV 5/5] END .................model__alpha=6.3;, score=-6.621 total time=   0.0s\n",
            "[CV 1/5] END .................model__alpha=6.4;, score=-6.777 total time=   0.0s\n",
            "[CV 2/5] END .................model__alpha=6.4;, score=-6.342 total time=   0.0s\n",
            "[CV 3/5] END .................model__alpha=6.4;, score=-6.005 total time=   0.0s\n",
            "[CV 4/5] END .................model__alpha=6.4;, score=-6.464 total time=   0.0s\n",
            "[CV 5/5] END .................model__alpha=6.4;, score=-6.621 total time=   0.0s\n",
            "[CV 1/5] END .................model__alpha=6.5;, score=-6.777 total time=   0.0s\n",
            "[CV 2/5] END .................model__alpha=6.5;, score=-6.342 total time=   0.0s\n",
            "[CV 3/5] END .................model__alpha=6.5;, score=-6.005 total time=   0.0s\n",
            "[CV 4/5] END .................model__alpha=6.5;, score=-6.464 total time=   0.0s\n",
            "[CV 5/5] END .................model__alpha=6.5;, score=-6.621 total time=   0.0s\n",
            "[CV 1/5] END .................model__alpha=6.6;, score=-6.777 total time=   0.0s\n",
            "[CV 2/5] END .................model__alpha=6.6;, score=-6.342 total time=   0.0s\n",
            "[CV 3/5] END .................model__alpha=6.6;, score=-6.005 total time=   0.0s\n",
            "[CV 4/5] END .................model__alpha=6.6;, score=-6.464 total time=   0.0s\n",
            "[CV 5/5] END .................model__alpha=6.6;, score=-6.621 total time=   0.0s\n",
            "[CV 1/5] END .................model__alpha=6.7;, score=-6.777 total time=   0.0s\n",
            "[CV 2/5] END .................model__alpha=6.7;, score=-6.342 total time=   0.0s\n",
            "[CV 3/5] END .................model__alpha=6.7;, score=-6.005 total time=   0.0s\n",
            "[CV 4/5] END .................model__alpha=6.7;, score=-6.464 total time=   0.0s\n",
            "[CV 5/5] END .................model__alpha=6.7;, score=-6.621 total time=   0.0s\n",
            "[CV 1/5] END .................model__alpha=6.8;, score=-6.777 total time=   0.0s\n",
            "[CV 2/5] END .................model__alpha=6.8;, score=-6.342 total time=   0.0s\n",
            "[CV 3/5] END .................model__alpha=6.8;, score=-6.005 total time=   0.0s\n",
            "[CV 4/5] END .................model__alpha=6.8;, score=-6.464 total time=   0.0s\n",
            "[CV 5/5] END .................model__alpha=6.8;, score=-6.621 total time=   0.0s\n",
            "[CV 1/5] END .................model__alpha=6.9;, score=-6.777 total time=   0.0s\n",
            "[CV 2/5] END .................model__alpha=6.9;, score=-6.342 total time=   0.0s\n",
            "[CV 3/5] END .................model__alpha=6.9;, score=-6.005 total time=   0.0s\n",
            "[CV 4/5] END .................model__alpha=6.9;, score=-6.464 total time=   0.0s\n",
            "[CV 5/5] END .................model__alpha=6.9;, score=-6.621 total time=   0.0s\n",
            "[CV 1/5] END .................model__alpha=7.0;, score=-6.777 total time=   0.0s\n",
            "[CV 2/5] END .................model__alpha=7.0;, score=-6.342 total time=   0.0s\n",
            "[CV 3/5] END .................model__alpha=7.0;, score=-6.005 total time=   0.0s\n",
            "[CV 4/5] END .................model__alpha=7.0;, score=-6.464 total time=   0.0s\n",
            "[CV 5/5] END .................model__alpha=7.0;, score=-6.621 total time=   0.0s\n",
            "[CV 1/5] END .................model__alpha=7.1;, score=-6.777 total time=   0.0s\n",
            "[CV 2/5] END .................model__alpha=7.1;, score=-6.342 total time=   0.0s\n",
            "[CV 3/5] END .................model__alpha=7.1;, score=-6.005 total time=   0.0s\n",
            "[CV 4/5] END .................model__alpha=7.1;, score=-6.464 total time=   0.0s\n",
            "[CV 5/5] END .................model__alpha=7.1;, score=-6.621 total time=   0.0s\n",
            "[CV 1/5] END .................model__alpha=7.2;, score=-6.777 total time=   0.0s\n",
            "[CV 2/5] END .................model__alpha=7.2;, score=-6.342 total time=   0.0s\n",
            "[CV 3/5] END .................model__alpha=7.2;, score=-6.005 total time=   0.0s\n",
            "[CV 4/5] END .................model__alpha=7.2;, score=-6.464 total time=   0.0s\n",
            "[CV 5/5] END .................model__alpha=7.2;, score=-6.621 total time=   0.0s\n",
            "[CV 1/5] END .................model__alpha=7.3;, score=-6.777 total time=   0.0s\n",
            "[CV 2/5] END .................model__alpha=7.3;, score=-6.342 total time=   0.0s\n",
            "[CV 3/5] END .................model__alpha=7.3;, score=-6.005 total time=   0.1s\n",
            "[CV 4/5] END .................model__alpha=7.3;, score=-6.464 total time=   0.0s\n",
            "[CV 5/5] END .................model__alpha=7.3;, score=-6.621 total time=   0.0s\n",
            "[CV 1/5] END .................model__alpha=7.4;, score=-6.777 total time=   0.0s\n",
            "[CV 2/5] END .................model__alpha=7.4;, score=-6.342 total time=   0.0s\n",
            "[CV 3/5] END .................model__alpha=7.4;, score=-6.005 total time=   0.0s\n",
            "[CV 4/5] END .................model__alpha=7.4;, score=-6.464 total time=   0.0s\n",
            "[CV 5/5] END .................model__alpha=7.4;, score=-6.621 total time=   0.0s\n",
            "[CV 1/5] END .................model__alpha=7.5;, score=-6.777 total time=   0.0s\n",
            "[CV 2/5] END .................model__alpha=7.5;, score=-6.342 total time=   0.0s\n",
            "[CV 3/5] END .................model__alpha=7.5;, score=-6.005 total time=   0.0s\n",
            "[CV 4/5] END .................model__alpha=7.5;, score=-6.464 total time=   0.0s\n",
            "[CV 5/5] END .................model__alpha=7.5;, score=-6.621 total time=   0.0s\n",
            "[CV 1/5] END .................model__alpha=7.6;, score=-6.777 total time=   0.0s\n",
            "[CV 2/5] END .................model__alpha=7.6;, score=-6.342 total time=   0.0s\n",
            "[CV 3/5] END .................model__alpha=7.6;, score=-6.005 total time=   0.0s\n",
            "[CV 4/5] END .................model__alpha=7.6;, score=-6.464 total time=   0.0s\n",
            "[CV 5/5] END .................model__alpha=7.6;, score=-6.621 total time=   0.0s\n",
            "[CV 1/5] END .................model__alpha=7.7;, score=-6.777 total time=   0.0s\n",
            "[CV 2/5] END .................model__alpha=7.7;, score=-6.342 total time=   0.0s\n",
            "[CV 3/5] END .................model__alpha=7.7;, score=-6.005 total time=   0.0s\n",
            "[CV 4/5] END .................model__alpha=7.7;, score=-6.464 total time=   0.0s\n",
            "[CV 5/5] END .................model__alpha=7.7;, score=-6.621 total time=   0.0s\n",
            "[CV 1/5] END .................model__alpha=7.8;, score=-6.777 total time=   0.0s\n",
            "[CV 2/5] END .................model__alpha=7.8;, score=-6.342 total time=   0.0s\n",
            "[CV 3/5] END .................model__alpha=7.8;, score=-6.005 total time=   0.0s\n",
            "[CV 4/5] END .................model__alpha=7.8;, score=-6.464 total time=   0.0s\n",
            "[CV 5/5] END .................model__alpha=7.8;, score=-6.621 total time=   0.0s\n",
            "[CV 1/5] END .................model__alpha=7.9;, score=-6.777 total time=   0.0s\n",
            "[CV 2/5] END .................model__alpha=7.9;, score=-6.342 total time=   0.0s\n",
            "[CV 3/5] END .................model__alpha=7.9;, score=-6.005 total time=   0.0s\n",
            "[CV 4/5] END .................model__alpha=7.9;, score=-6.464 total time=   0.0s\n",
            "[CV 5/5] END .................model__alpha=7.9;, score=-6.621 total time=   0.0s\n",
            "[CV 1/5] END .................model__alpha=8.0;, score=-6.777 total time=   0.0s\n",
            "[CV 2/5] END .................model__alpha=8.0;, score=-6.342 total time=   0.0s\n",
            "[CV 3/5] END .................model__alpha=8.0;, score=-6.005 total time=   0.0s\n",
            "[CV 4/5] END .................model__alpha=8.0;, score=-6.464 total time=   0.0s\n",
            "[CV 5/5] END .................model__alpha=8.0;, score=-6.621 total time=   0.0s\n",
            "[CV 1/5] END .................model__alpha=8.1;, score=-6.777 total time=   0.0s\n",
            "[CV 2/5] END .................model__alpha=8.1;, score=-6.342 total time=   0.0s\n",
            "[CV 3/5] END .................model__alpha=8.1;, score=-6.005 total time=   0.0s\n",
            "[CV 4/5] END .................model__alpha=8.1;, score=-6.464 total time=   0.0s\n",
            "[CV 5/5] END .................model__alpha=8.1;, score=-6.621 total time=   0.0s\n",
            "[CV 1/5] END .................model__alpha=8.2;, score=-6.777 total time=   0.0s\n",
            "[CV 2/5] END .................model__alpha=8.2;, score=-6.342 total time=   0.0s\n",
            "[CV 3/5] END .................model__alpha=8.2;, score=-6.005 total time=   0.0s\n",
            "[CV 4/5] END .................model__alpha=8.2;, score=-6.464 total time=   0.0s\n",
            "[CV 5/5] END .................model__alpha=8.2;, score=-6.621 total time=   0.0s\n",
            "[CV 1/5] END .................model__alpha=8.3;, score=-6.777 total time=   0.0s\n",
            "[CV 2/5] END .................model__alpha=8.3;, score=-6.342 total time=   0.0s\n",
            "[CV 3/5] END .................model__alpha=8.3;, score=-6.005 total time=   0.0s\n",
            "[CV 4/5] END .................model__alpha=8.3;, score=-6.464 total time=   0.0s\n",
            "[CV 5/5] END .................model__alpha=8.3;, score=-6.621 total time=   0.0s\n",
            "[CV 1/5] END .................model__alpha=8.4;, score=-6.777 total time=   0.0s\n",
            "[CV 2/5] END .................model__alpha=8.4;, score=-6.342 total time=   0.0s\n",
            "[CV 3/5] END .................model__alpha=8.4;, score=-6.005 total time=   0.0s\n",
            "[CV 4/5] END .................model__alpha=8.4;, score=-6.464 total time=   0.0s\n",
            "[CV 5/5] END .................model__alpha=8.4;, score=-6.621 total time=   0.0s\n",
            "[CV 1/5] END .................model__alpha=8.5;, score=-6.777 total time=   0.0s\n",
            "[CV 2/5] END .................model__alpha=8.5;, score=-6.342 total time=   0.0s\n",
            "[CV 3/5] END .................model__alpha=8.5;, score=-6.005 total time=   0.0s\n",
            "[CV 4/5] END .................model__alpha=8.5;, score=-6.464 total time=   0.0s\n",
            "[CV 5/5] END .................model__alpha=8.5;, score=-6.621 total time=   0.0s\n",
            "[CV 1/5] END .................model__alpha=8.6;, score=-6.777 total time=   0.0s\n",
            "[CV 2/5] END .................model__alpha=8.6;, score=-6.342 total time=   0.0s\n",
            "[CV 3/5] END .................model__alpha=8.6;, score=-6.005 total time=   0.0s\n",
            "[CV 4/5] END .................model__alpha=8.6;, score=-6.464 total time=   0.0s\n",
            "[CV 5/5] END .................model__alpha=8.6;, score=-6.621 total time=   0.0s\n",
            "[CV 1/5] END .................model__alpha=8.7;, score=-6.777 total time=   0.0s\n",
            "[CV 2/5] END .................model__alpha=8.7;, score=-6.342 total time=   0.0s\n",
            "[CV 3/5] END .................model__alpha=8.7;, score=-6.005 total time=   0.0s\n",
            "[CV 4/5] END .................model__alpha=8.7;, score=-6.464 total time=   0.0s\n",
            "[CV 5/5] END .................model__alpha=8.7;, score=-6.621 total time=   0.0s\n",
            "[CV 1/5] END .................model__alpha=8.8;, score=-6.777 total time=   0.0s\n",
            "[CV 2/5] END .................model__alpha=8.8;, score=-6.342 total time=   0.0s\n",
            "[CV 3/5] END .................model__alpha=8.8;, score=-6.005 total time=   0.0s\n",
            "[CV 4/5] END .................model__alpha=8.8;, score=-6.464 total time=   0.0s\n",
            "[CV 5/5] END .................model__alpha=8.8;, score=-6.621 total time=   0.0s\n",
            "[CV 1/5] END .................model__alpha=8.9;, score=-6.777 total time=   0.0s\n",
            "[CV 2/5] END .................model__alpha=8.9;, score=-6.342 total time=   0.0s\n",
            "[CV 3/5] END .................model__alpha=8.9;, score=-6.005 total time=   0.0s\n",
            "[CV 4/5] END .................model__alpha=8.9;, score=-6.464 total time=   0.0s\n",
            "[CV 5/5] END .................model__alpha=8.9;, score=-6.621 total time=   0.0s\n",
            "[CV 1/5] END .................model__alpha=9.0;, score=-6.777 total time=   0.0s\n",
            "[CV 2/5] END .................model__alpha=9.0;, score=-6.342 total time=   0.0s\n",
            "[CV 3/5] END .................model__alpha=9.0;, score=-6.005 total time=   0.0s\n",
            "[CV 4/5] END .................model__alpha=9.0;, score=-6.464 total time=   0.0s\n",
            "[CV 5/5] END .................model__alpha=9.0;, score=-6.621 total time=   0.0s\n",
            "[CV 1/5] END .................model__alpha=9.1;, score=-6.777 total time=   0.0s\n",
            "[CV 2/5] END .................model__alpha=9.1;, score=-6.342 total time=   0.0s\n",
            "[CV 3/5] END .................model__alpha=9.1;, score=-6.005 total time=   0.0s\n",
            "[CV 4/5] END .................model__alpha=9.1;, score=-6.464 total time=   0.0s\n",
            "[CV 5/5] END .................model__alpha=9.1;, score=-6.621 total time=   0.0s\n",
            "[CV 1/5] END .................model__alpha=9.2;, score=-6.777 total time=   0.0s\n",
            "[CV 2/5] END .................model__alpha=9.2;, score=-6.342 total time=   0.0s\n",
            "[CV 3/5] END .................model__alpha=9.2;, score=-6.005 total time=   0.0s\n",
            "[CV 4/5] END .................model__alpha=9.2;, score=-6.464 total time=   0.0s\n",
            "[CV 5/5] END .................model__alpha=9.2;, score=-6.621 total time=   0.0s\n",
            "[CV 1/5] END .................model__alpha=9.3;, score=-6.777 total time=   0.0s\n",
            "[CV 2/5] END .................model__alpha=9.3;, score=-6.342 total time=   0.0s\n",
            "[CV 3/5] END .................model__alpha=9.3;, score=-6.005 total time=   0.0s\n",
            "[CV 4/5] END .................model__alpha=9.3;, score=-6.464 total time=   0.0s\n",
            "[CV 5/5] END .................model__alpha=9.3;, score=-6.621 total time=   0.0s\n",
            "[CV 1/5] END .................model__alpha=9.4;, score=-6.777 total time=   0.0s\n",
            "[CV 2/5] END .................model__alpha=9.4;, score=-6.342 total time=   0.1s\n",
            "[CV 3/5] END .................model__alpha=9.4;, score=-6.005 total time=   0.0s\n",
            "[CV 4/5] END .................model__alpha=9.4;, score=-6.464 total time=   0.0s\n",
            "[CV 5/5] END .................model__alpha=9.4;, score=-6.621 total time=   0.0s\n",
            "[CV 1/5] END .................model__alpha=9.5;, score=-6.777 total time=   0.0s\n",
            "[CV 2/5] END .................model__alpha=9.5;, score=-6.342 total time=   0.0s\n",
            "[CV 3/5] END .................model__alpha=9.5;, score=-6.005 total time=   0.0s\n",
            "[CV 4/5] END .................model__alpha=9.5;, score=-6.464 total time=   0.0s\n",
            "[CV 5/5] END .................model__alpha=9.5;, score=-6.621 total time=   0.0s\n",
            "[CV 1/5] END .................model__alpha=9.6;, score=-6.777 total time=   0.0s\n",
            "[CV 2/5] END .................model__alpha=9.6;, score=-6.342 total time=   0.0s\n",
            "[CV 3/5] END .................model__alpha=9.6;, score=-6.005 total time=   0.0s\n",
            "[CV 4/5] END .................model__alpha=9.6;, score=-6.464 total time=   0.0s\n",
            "[CV 5/5] END .................model__alpha=9.6;, score=-6.621 total time=   0.0s\n",
            "[CV 1/5] END ...model__alpha=9.700000000000001;, score=-6.777 total time=   0.0s\n",
            "[CV 2/5] END ...model__alpha=9.700000000000001;, score=-6.342 total time=   0.0s\n",
            "[CV 3/5] END ...model__alpha=9.700000000000001;, score=-6.005 total time=   0.0s\n",
            "[CV 4/5] END ...model__alpha=9.700000000000001;, score=-6.464 total time=   0.0s\n",
            "[CV 5/5] END ...model__alpha=9.700000000000001;, score=-6.621 total time=   0.0s\n",
            "[CV 1/5] END .................model__alpha=9.8;, score=-6.777 total time=   0.0s\n",
            "[CV 2/5] END .................model__alpha=9.8;, score=-6.342 total time=   0.0s\n",
            "[CV 3/5] END .................model__alpha=9.8;, score=-6.005 total time=   0.0s\n",
            "[CV 4/5] END .................model__alpha=9.8;, score=-6.464 total time=   0.0s\n",
            "[CV 5/5] END .................model__alpha=9.8;, score=-6.621 total time=   0.0s\n",
            "[CV 1/5] END .................model__alpha=9.9;, score=-6.777 total time=   0.0s\n",
            "[CV 2/5] END .................model__alpha=9.9;, score=-6.342 total time=   0.0s\n",
            "[CV 3/5] END .................model__alpha=9.9;, score=-6.005 total time=   0.0s\n",
            "[CV 4/5] END .................model__alpha=9.9;, score=-6.464 total time=   0.0s\n",
            "[CV 5/5] END .................model__alpha=9.9;, score=-6.621 total time=   0.0s\n"
          ]
        },
        {
          "output_type": "execute_result",
          "data": {
            "text/plain": [
              "GridSearchCV(cv=5,\n",
              "             estimator=Pipeline(steps=[('scaler', StandardScaler()),\n",
              "                                       ('model', Lasso())]),\n",
              "             param_grid={'model__alpha': array([0.1, 0.2, 0.3, 0.4, 0.5, 0.6, 0.7, 0.8, 0.9, 1. , 1.1, 1.2, 1.3,\n",
              "       1.4, 1.5, 1.6, 1.7, 1.8, 1.9, 2. , 2.1, 2.2, 2.3, 2.4, 2.5, 2.6,\n",
              "       2.7, 2.8, 2.9, 3. , 3.1, 3.2, 3.3, 3.4, 3.5, 3.6, 3.7, 3.8, 3.9,\n",
              "       4. , 4.1, 4.2, 4.3, 4.4, 4.5, 4.6, 4.7, 4.8, 4.9, 5. , 5.1, 5.2,\n",
              "       5.3, 5.4, 5.5, 5.6, 5.7, 5.8, 5.9, 6. , 6.1, 6.2, 6.3, 6.4, 6.5,\n",
              "       6.6, 6.7, 6.8, 6.9, 7. , 7.1, 7.2, 7.3, 7.4, 7.5, 7.6, 7.7, 7.8,\n",
              "       7.9, 8. , 8.1, 8.2, 8.3, 8.4, 8.5, 8.6, 8.7, 8.8, 8.9, 9. , 9.1,\n",
              "       9.2, 9.3, 9.4, 9.5, 9.6, 9.7, 9.8, 9.9])},\n",
              "             scoring='neg_mean_squared_error', verbose=3)"
            ],
            "text/html": [
              "<style>#sk-container-id-2 {color: black;background-color: white;}#sk-container-id-2 pre{padding: 0;}#sk-container-id-2 div.sk-toggleable {background-color: white;}#sk-container-id-2 label.sk-toggleable__label {cursor: pointer;display: block;width: 100%;margin-bottom: 0;padding: 0.3em;box-sizing: border-box;text-align: center;}#sk-container-id-2 label.sk-toggleable__label-arrow:before {content: \"▸\";float: left;margin-right: 0.25em;color: #696969;}#sk-container-id-2 label.sk-toggleable__label-arrow:hover:before {color: black;}#sk-container-id-2 div.sk-estimator:hover label.sk-toggleable__label-arrow:before {color: black;}#sk-container-id-2 div.sk-toggleable__content {max-height: 0;max-width: 0;overflow: hidden;text-align: left;background-color: #f0f8ff;}#sk-container-id-2 div.sk-toggleable__content pre {margin: 0.2em;color: black;border-radius: 0.25em;background-color: #f0f8ff;}#sk-container-id-2 input.sk-toggleable__control:checked~div.sk-toggleable__content {max-height: 200px;max-width: 100%;overflow: auto;}#sk-container-id-2 input.sk-toggleable__control:checked~label.sk-toggleable__label-arrow:before {content: \"▾\";}#sk-container-id-2 div.sk-estimator input.sk-toggleable__control:checked~label.sk-toggleable__label {background-color: #d4ebff;}#sk-container-id-2 div.sk-label input.sk-toggleable__control:checked~label.sk-toggleable__label {background-color: #d4ebff;}#sk-container-id-2 input.sk-hidden--visually {border: 0;clip: rect(1px 1px 1px 1px);clip: rect(1px, 1px, 1px, 1px);height: 1px;margin: -1px;overflow: hidden;padding: 0;position: absolute;width: 1px;}#sk-container-id-2 div.sk-estimator {font-family: monospace;background-color: #f0f8ff;border: 1px dotted black;border-radius: 0.25em;box-sizing: border-box;margin-bottom: 0.5em;}#sk-container-id-2 div.sk-estimator:hover {background-color: #d4ebff;}#sk-container-id-2 div.sk-parallel-item::after {content: \"\";width: 100%;border-bottom: 1px solid gray;flex-grow: 1;}#sk-container-id-2 div.sk-label:hover label.sk-toggleable__label {background-color: #d4ebff;}#sk-container-id-2 div.sk-serial::before {content: \"\";position: absolute;border-left: 1px solid gray;box-sizing: border-box;top: 0;bottom: 0;left: 50%;z-index: 0;}#sk-container-id-2 div.sk-serial {display: flex;flex-direction: column;align-items: center;background-color: white;padding-right: 0.2em;padding-left: 0.2em;position: relative;}#sk-container-id-2 div.sk-item {position: relative;z-index: 1;}#sk-container-id-2 div.sk-parallel {display: flex;align-items: stretch;justify-content: center;background-color: white;position: relative;}#sk-container-id-2 div.sk-item::before, #sk-container-id-2 div.sk-parallel-item::before {content: \"\";position: absolute;border-left: 1px solid gray;box-sizing: border-box;top: 0;bottom: 0;left: 50%;z-index: -1;}#sk-container-id-2 div.sk-parallel-item {display: flex;flex-direction: column;z-index: 1;position: relative;background-color: white;}#sk-container-id-2 div.sk-parallel-item:first-child::after {align-self: flex-end;width: 50%;}#sk-container-id-2 div.sk-parallel-item:last-child::after {align-self: flex-start;width: 50%;}#sk-container-id-2 div.sk-parallel-item:only-child::after {width: 0;}#sk-container-id-2 div.sk-dashed-wrapped {border: 1px dashed gray;margin: 0 0.4em 0.5em 0.4em;box-sizing: border-box;padding-bottom: 0.4em;background-color: white;}#sk-container-id-2 div.sk-label label {font-family: monospace;font-weight: bold;display: inline-block;line-height: 1.2em;}#sk-container-id-2 div.sk-label-container {text-align: center;}#sk-container-id-2 div.sk-container {/* jupyter's `normalize.less` sets `[hidden] { display: none; }` but bootstrap.min.css set `[hidden] { display: none !important; }` so we also need the `!important` here to be able to override the default hidden behavior on the sphinx rendered scikit-learn.org. See: https://github.com/scikit-learn/scikit-learn/issues/21755 */display: inline-block !important;position: relative;}#sk-container-id-2 div.sk-text-repr-fallback {display: none;}</style><div id=\"sk-container-id-2\" class=\"sk-top-container\"><div class=\"sk-text-repr-fallback\"><pre>GridSearchCV(cv=5,\n",
              "             estimator=Pipeline(steps=[(&#x27;scaler&#x27;, StandardScaler()),\n",
              "                                       (&#x27;model&#x27;, Lasso())]),\n",
              "             param_grid={&#x27;model__alpha&#x27;: array([0.1, 0.2, 0.3, 0.4, 0.5, 0.6, 0.7, 0.8, 0.9, 1. , 1.1, 1.2, 1.3,\n",
              "       1.4, 1.5, 1.6, 1.7, 1.8, 1.9, 2. , 2.1, 2.2, 2.3, 2.4, 2.5, 2.6,\n",
              "       2.7, 2.8, 2.9, 3. , 3.1, 3.2, 3.3, 3.4, 3.5, 3.6, 3.7, 3.8, 3.9,\n",
              "       4. , 4.1, 4.2, 4.3, 4.4, 4.5, 4.6, 4.7, 4.8, 4.9, 5. , 5.1, 5.2,\n",
              "       5.3, 5.4, 5.5, 5.6, 5.7, 5.8, 5.9, 6. , 6.1, 6.2, 6.3, 6.4, 6.5,\n",
              "       6.6, 6.7, 6.8, 6.9, 7. , 7.1, 7.2, 7.3, 7.4, 7.5, 7.6, 7.7, 7.8,\n",
              "       7.9, 8. , 8.1, 8.2, 8.3, 8.4, 8.5, 8.6, 8.7, 8.8, 8.9, 9. , 9.1,\n",
              "       9.2, 9.3, 9.4, 9.5, 9.6, 9.7, 9.8, 9.9])},\n",
              "             scoring=&#x27;neg_mean_squared_error&#x27;, verbose=3)</pre><b>In a Jupyter environment, please rerun this cell to show the HTML representation or trust the notebook. <br />On GitHub, the HTML representation is unable to render, please try loading this page with nbviewer.org.</b></div><div class=\"sk-container\" hidden><div class=\"sk-item sk-dashed-wrapped\"><div class=\"sk-label-container\"><div class=\"sk-label sk-toggleable\"><input class=\"sk-toggleable__control sk-hidden--visually\" id=\"sk-estimator-id-2\" type=\"checkbox\" ><label for=\"sk-estimator-id-2\" class=\"sk-toggleable__label sk-toggleable__label-arrow\">GridSearchCV</label><div class=\"sk-toggleable__content\"><pre>GridSearchCV(cv=5,\n",
              "             estimator=Pipeline(steps=[(&#x27;scaler&#x27;, StandardScaler()),\n",
              "                                       (&#x27;model&#x27;, Lasso())]),\n",
              "             param_grid={&#x27;model__alpha&#x27;: array([0.1, 0.2, 0.3, 0.4, 0.5, 0.6, 0.7, 0.8, 0.9, 1. , 1.1, 1.2, 1.3,\n",
              "       1.4, 1.5, 1.6, 1.7, 1.8, 1.9, 2. , 2.1, 2.2, 2.3, 2.4, 2.5, 2.6,\n",
              "       2.7, 2.8, 2.9, 3. , 3.1, 3.2, 3.3, 3.4, 3.5, 3.6, 3.7, 3.8, 3.9,\n",
              "       4. , 4.1, 4.2, 4.3, 4.4, 4.5, 4.6, 4.7, 4.8, 4.9, 5. , 5.1, 5.2,\n",
              "       5.3, 5.4, 5.5, 5.6, 5.7, 5.8, 5.9, 6. , 6.1, 6.2, 6.3, 6.4, 6.5,\n",
              "       6.6, 6.7, 6.8, 6.9, 7. , 7.1, 7.2, 7.3, 7.4, 7.5, 7.6, 7.7, 7.8,\n",
              "       7.9, 8. , 8.1, 8.2, 8.3, 8.4, 8.5, 8.6, 8.7, 8.8, 8.9, 9. , 9.1,\n",
              "       9.2, 9.3, 9.4, 9.5, 9.6, 9.7, 9.8, 9.9])},\n",
              "             scoring=&#x27;neg_mean_squared_error&#x27;, verbose=3)</pre></div></div></div><div class=\"sk-parallel\"><div class=\"sk-parallel-item\"><div class=\"sk-item\"><div class=\"sk-label-container\"><div class=\"sk-label sk-toggleable\"><input class=\"sk-toggleable__control sk-hidden--visually\" id=\"sk-estimator-id-3\" type=\"checkbox\" ><label for=\"sk-estimator-id-3\" class=\"sk-toggleable__label sk-toggleable__label-arrow\">estimator: Pipeline</label><div class=\"sk-toggleable__content\"><pre>Pipeline(steps=[(&#x27;scaler&#x27;, StandardScaler()), (&#x27;model&#x27;, Lasso())])</pre></div></div></div><div class=\"sk-serial\"><div class=\"sk-item\"><div class=\"sk-serial\"><div class=\"sk-item\"><div class=\"sk-estimator sk-toggleable\"><input class=\"sk-toggleable__control sk-hidden--visually\" id=\"sk-estimator-id-4\" type=\"checkbox\" ><label for=\"sk-estimator-id-4\" class=\"sk-toggleable__label sk-toggleable__label-arrow\">StandardScaler</label><div class=\"sk-toggleable__content\"><pre>StandardScaler()</pre></div></div></div><div class=\"sk-item\"><div class=\"sk-estimator sk-toggleable\"><input class=\"sk-toggleable__control sk-hidden--visually\" id=\"sk-estimator-id-5\" type=\"checkbox\" ><label for=\"sk-estimator-id-5\" class=\"sk-toggleable__label sk-toggleable__label-arrow\">Lasso</label><div class=\"sk-toggleable__content\"><pre>Lasso()</pre></div></div></div></div></div></div></div></div></div></div></div></div>"
            ]
          },
          "metadata": {},
          "execution_count": 42
        }
      ]
    },
    {
      "cell_type": "code",
      "source": [
        "#The best value for α is:\n",
        "search.best_params_"
      ],
      "metadata": {
        "colab": {
          "base_uri": "https://localhost:8080/"
        },
        "id": "zTFTcxNB4ssY",
        "outputId": "b2466818-4ce8-4eb8-c7f0-c5588f9331b7"
      },
      "execution_count": null,
      "outputs": [
        {
          "output_type": "execute_result",
          "data": {
            "text/plain": [
              "{'model__alpha': 0.1}"
            ]
          },
          "metadata": {},
          "execution_count": 43
        }
      ]
    },
    {
      "cell_type": "code",
      "source": [
        "coefficients = search.best_estimator_.named_steps['model'].coef_"
      ],
      "metadata": {
        "id": "81ubKl444vqJ"
      },
      "execution_count": null,
      "outputs": []
    },
    {
      "cell_type": "code",
      "source": [
        "importance = np.abs(coefficients)\n",
        "importance"
      ],
      "metadata": {
        "colab": {
          "base_uri": "https://localhost:8080/"
        },
        "id": "YzzvSpqg4xxp",
        "outputId": "ed0ee3c9-f98c-4635-8aff-4b40fb9c1d11"
      },
      "execution_count": null,
      "outputs": [
        {
          "output_type": "execute_result",
          "data": {
            "text/plain": [
              "array([0.        , 0.        , 0.        , 0.        , 0.21815457,\n",
              "       0.        , 0.        , 0.        , 0.        , 0.        ,\n",
              "       0.        , 0.13521756, 0.        , 0.07516396, 0.        ,\n",
              "       0.        , 0.        , 0.        , 0.        , 0.10780918,\n",
              "       0.00666175, 0.        , 0.        , 0.09187274, 0.        ,\n",
              "       0.21222078, 0.        , 0.        , 1.22333001, 0.09552748,\n",
              "       0.07511987, 0.61285903, 0.17834658, 0.        , 0.        ,\n",
              "       0.        ])"
            ]
          },
          "metadata": {},
          "execution_count": 45
        }
      ]
    },
    {
      "cell_type": "markdown",
      "source": [
        "We can discard the features with importance zero."
      ],
      "metadata": {
        "id": "YULVL45i47Wx"
      }
    },
    {
      "cell_type": "code",
      "source": [
        "features_lasso = np.array(features)[importance > 0]"
      ],
      "metadata": {
        "id": "JR9J4HC440h5"
      },
      "execution_count": null,
      "outputs": []
    },
    {
      "cell_type": "code",
      "source": [
        "features_lasso"
      ],
      "metadata": {
        "colab": {
          "base_uri": "https://localhost:8080/"
        },
        "id": "8ehkD7Ch4-k4",
        "outputId": "bae90cc3-597f-49de-b205-a058cd60a4da"
      },
      "execution_count": null,
      "outputs": [
        {
          "output_type": "execute_result",
          "data": {
            "text/plain": [
              "array(['HS', '6s', 'St', 'Ave.1', 'Econ', '5w', 'Role_Batter',\n",
              "       'BasePrice_20.0', 'BasePrice_30.0', 'BasePrice_40.0',\n",
              "       'BasePrice_50.0', 'BasePrice_75.0'], dtype='<U24')"
            ]
          },
          "metadata": {},
          "execution_count": 47
        }
      ]
    },
    {
      "cell_type": "code",
      "source": [
        "discarded = np.array(features)[importance == 0]\n",
        "discarded"
      ],
      "metadata": {
        "colab": {
          "base_uri": "https://localhost:8080/"
        },
        "id": "YCpW6XqC5A8A",
        "outputId": "d5baa03c-9526-418c-8c35-6bf3c305327d"
      },
      "execution_count": null,
      "outputs": [
        {
          "output_type": "execute_result",
          "data": {
            "text/plain": [
              "array(['Mat', 'Inns', 'NO', 'Runs', 'Ave', 'BF', 'SR', '100s', '50s',\n",
              "       '4s', 'Ct', 'Mat.1', 'Inns.1', 'Balls', 'Runs.1', 'Wkts', 'SR.1',\n",
              "       '4w', '10w', 'Role_Bowler', 'Role_Wicketkeeper Batter',\n",
              "       'BasePrice_100.0', 'BasePrice_150.0', 'BasePrice_200.0'],\n",
              "      dtype='<U24')"
            ]
          },
          "metadata": {},
          "execution_count": 48
        }
      ]
    },
    {
      "cell_type": "code",
      "source": [
        "df_l = df_lasso.loc[:, list(features_lasso)]"
      ],
      "metadata": {
        "id": "navOFZrv5FYQ"
      },
      "execution_count": null,
      "outputs": []
    },
    {
      "cell_type": "code",
      "source": [
        "df_l.head()"
      ],
      "metadata": {
        "colab": {
          "base_uri": "https://localhost:8080/",
          "height": 206
        },
        "id": "s-iX9joS5L2g",
        "outputId": "b2810617-94eb-4c36-c9d0-88c7ec18c3d1"
      },
      "execution_count": null,
      "outputs": [
        {
          "output_type": "execute_result",
          "data": {
            "text/plain": [
              "      HS     6s   St  Ave.1   Econ   5w  Role_Batter  BasePrice_20.0  \\\n",
              "0  172.0  452.0  0.0  52.71   9.26  0.0            1               0   \n",
              "1   76.0   57.0  0.0  53.25  10.14  0.0            1               0   \n",
              "2   84.0    5.0  0.0   0.00   0.00  0.0            1               1   \n",
              "3   70.0   23.0  0.0   0.00   0.00  0.0            0               1   \n",
              "4  107.0   61.0  0.0  19.65   6.38  0.0            0               1   \n",
              "\n",
              "   BasePrice_30.0  BasePrice_40.0  BasePrice_50.0  BasePrice_75.0  \n",
              "0               0               0               0               0  \n",
              "1               0               0               0               0  \n",
              "2               0               0               0               0  \n",
              "3               0               0               0               0  \n",
              "4               0               0               0               0  "
            ],
            "text/html": [
              "\n",
              "  <div id=\"df-0ae5d007-c360-4bdd-bc72-3ba99864fd58\">\n",
              "    <div class=\"colab-df-container\">\n",
              "      <div>\n",
              "<style scoped>\n",
              "    .dataframe tbody tr th:only-of-type {\n",
              "        vertical-align: middle;\n",
              "    }\n",
              "\n",
              "    .dataframe tbody tr th {\n",
              "        vertical-align: top;\n",
              "    }\n",
              "\n",
              "    .dataframe thead th {\n",
              "        text-align: right;\n",
              "    }\n",
              "</style>\n",
              "<table border=\"1\" class=\"dataframe\">\n",
              "  <thead>\n",
              "    <tr style=\"text-align: right;\">\n",
              "      <th></th>\n",
              "      <th>HS</th>\n",
              "      <th>6s</th>\n",
              "      <th>St</th>\n",
              "      <th>Ave.1</th>\n",
              "      <th>Econ</th>\n",
              "      <th>5w</th>\n",
              "      <th>Role_Batter</th>\n",
              "      <th>BasePrice_20.0</th>\n",
              "      <th>BasePrice_30.0</th>\n",
              "      <th>BasePrice_40.0</th>\n",
              "      <th>BasePrice_50.0</th>\n",
              "      <th>BasePrice_75.0</th>\n",
              "    </tr>\n",
              "  </thead>\n",
              "  <tbody>\n",
              "    <tr>\n",
              "      <th>0</th>\n",
              "      <td>172.0</td>\n",
              "      <td>452.0</td>\n",
              "      <td>0.0</td>\n",
              "      <td>52.71</td>\n",
              "      <td>9.26</td>\n",
              "      <td>0.0</td>\n",
              "      <td>1</td>\n",
              "      <td>0</td>\n",
              "      <td>0</td>\n",
              "      <td>0</td>\n",
              "      <td>0</td>\n",
              "      <td>0</td>\n",
              "    </tr>\n",
              "    <tr>\n",
              "      <th>1</th>\n",
              "      <td>76.0</td>\n",
              "      <td>57.0</td>\n",
              "      <td>0.0</td>\n",
              "      <td>53.25</td>\n",
              "      <td>10.14</td>\n",
              "      <td>0.0</td>\n",
              "      <td>1</td>\n",
              "      <td>0</td>\n",
              "      <td>0</td>\n",
              "      <td>0</td>\n",
              "      <td>0</td>\n",
              "      <td>0</td>\n",
              "    </tr>\n",
              "    <tr>\n",
              "      <th>2</th>\n",
              "      <td>84.0</td>\n",
              "      <td>5.0</td>\n",
              "      <td>0.0</td>\n",
              "      <td>0.00</td>\n",
              "      <td>0.00</td>\n",
              "      <td>0.0</td>\n",
              "      <td>1</td>\n",
              "      <td>1</td>\n",
              "      <td>0</td>\n",
              "      <td>0</td>\n",
              "      <td>0</td>\n",
              "      <td>0</td>\n",
              "    </tr>\n",
              "    <tr>\n",
              "      <th>3</th>\n",
              "      <td>70.0</td>\n",
              "      <td>23.0</td>\n",
              "      <td>0.0</td>\n",
              "      <td>0.00</td>\n",
              "      <td>0.00</td>\n",
              "      <td>0.0</td>\n",
              "      <td>0</td>\n",
              "      <td>1</td>\n",
              "      <td>0</td>\n",
              "      <td>0</td>\n",
              "      <td>0</td>\n",
              "      <td>0</td>\n",
              "    </tr>\n",
              "    <tr>\n",
              "      <th>4</th>\n",
              "      <td>107.0</td>\n",
              "      <td>61.0</td>\n",
              "      <td>0.0</td>\n",
              "      <td>19.65</td>\n",
              "      <td>6.38</td>\n",
              "      <td>0.0</td>\n",
              "      <td>0</td>\n",
              "      <td>1</td>\n",
              "      <td>0</td>\n",
              "      <td>0</td>\n",
              "      <td>0</td>\n",
              "      <td>0</td>\n",
              "    </tr>\n",
              "  </tbody>\n",
              "</table>\n",
              "</div>\n",
              "      <button class=\"colab-df-convert\" onclick=\"convertToInteractive('df-0ae5d007-c360-4bdd-bc72-3ba99864fd58')\"\n",
              "              title=\"Convert this dataframe to an interactive table.\"\n",
              "              style=\"display:none;\">\n",
              "        \n",
              "  <svg xmlns=\"http://www.w3.org/2000/svg\" height=\"24px\"viewBox=\"0 0 24 24\"\n",
              "       width=\"24px\">\n",
              "    <path d=\"M0 0h24v24H0V0z\" fill=\"none\"/>\n",
              "    <path d=\"M18.56 5.44l.94 2.06.94-2.06 2.06-.94-2.06-.94-.94-2.06-.94 2.06-2.06.94zm-11 1L8.5 8.5l.94-2.06 2.06-.94-2.06-.94L8.5 2.5l-.94 2.06-2.06.94zm10 10l.94 2.06.94-2.06 2.06-.94-2.06-.94-.94-2.06-.94 2.06-2.06.94z\"/><path d=\"M17.41 7.96l-1.37-1.37c-.4-.4-.92-.59-1.43-.59-.52 0-1.04.2-1.43.59L10.3 9.45l-7.72 7.72c-.78.78-.78 2.05 0 2.83L4 21.41c.39.39.9.59 1.41.59.51 0 1.02-.2 1.41-.59l7.78-7.78 2.81-2.81c.8-.78.8-2.07 0-2.86zM5.41 20L4 18.59l7.72-7.72 1.47 1.35L5.41 20z\"/>\n",
              "  </svg>\n",
              "      </button>\n",
              "      \n",
              "  <style>\n",
              "    .colab-df-container {\n",
              "      display:flex;\n",
              "      flex-wrap:wrap;\n",
              "      gap: 12px;\n",
              "    }\n",
              "\n",
              "    .colab-df-convert {\n",
              "      background-color: #E8F0FE;\n",
              "      border: none;\n",
              "      border-radius: 50%;\n",
              "      cursor: pointer;\n",
              "      display: none;\n",
              "      fill: #1967D2;\n",
              "      height: 32px;\n",
              "      padding: 0 0 0 0;\n",
              "      width: 32px;\n",
              "    }\n",
              "\n",
              "    .colab-df-convert:hover {\n",
              "      background-color: #E2EBFA;\n",
              "      box-shadow: 0px 1px 2px rgba(60, 64, 67, 0.3), 0px 1px 3px 1px rgba(60, 64, 67, 0.15);\n",
              "      fill: #174EA6;\n",
              "    }\n",
              "\n",
              "    [theme=dark] .colab-df-convert {\n",
              "      background-color: #3B4455;\n",
              "      fill: #D2E3FC;\n",
              "    }\n",
              "\n",
              "    [theme=dark] .colab-df-convert:hover {\n",
              "      background-color: #434B5C;\n",
              "      box-shadow: 0px 1px 3px 1px rgba(0, 0, 0, 0.15);\n",
              "      filter: drop-shadow(0px 1px 2px rgba(0, 0, 0, 0.3));\n",
              "      fill: #FFFFFF;\n",
              "    }\n",
              "  </style>\n",
              "\n",
              "      <script>\n",
              "        const buttonEl =\n",
              "          document.querySelector('#df-0ae5d007-c360-4bdd-bc72-3ba99864fd58 button.colab-df-convert');\n",
              "        buttonEl.style.display =\n",
              "          google.colab.kernel.accessAllowed ? 'block' : 'none';\n",
              "\n",
              "        async function convertToInteractive(key) {\n",
              "          const element = document.querySelector('#df-0ae5d007-c360-4bdd-bc72-3ba99864fd58');\n",
              "          const dataTable =\n",
              "            await google.colab.kernel.invokeFunction('convertToInteractive',\n",
              "                                                     [key], {});\n",
              "          if (!dataTable) return;\n",
              "\n",
              "          const docLinkHtml = 'Like what you see? Visit the ' +\n",
              "            '<a target=\"_blank\" href=https://colab.research.google.com/notebooks/data_table.ipynb>data table notebook</a>'\n",
              "            + ' to learn more about interactive tables.';\n",
              "          element.innerHTML = '';\n",
              "          dataTable['output_type'] = 'display_data';\n",
              "          await google.colab.output.renderOutput(dataTable, element);\n",
              "          const docLink = document.createElement('div');\n",
              "          docLink.innerHTML = docLinkHtml;\n",
              "          element.appendChild(docLink);\n",
              "        }\n",
              "      </script>\n",
              "    </div>\n",
              "  </div>\n",
              "  "
            ]
          },
          "metadata": {},
          "execution_count": 50
        }
      ]
    },
    {
      "cell_type": "code",
      "source": [
        "X_train_l, X_test_l, y_train_l, y_test_l = train_test_split(df_l, y_lasso, test_size=0.33, random_state=24)"
      ],
      "metadata": {
        "id": "smsFDUJc5Nh5"
      },
      "execution_count": null,
      "outputs": []
    },
    {
      "cell_type": "code",
      "source": [
        "pipelines = []\n",
        "pipelines.append(('scaledLR' , (Pipeline([('scaled' , StandardScaler()),('LR' ,LogisticRegression())]))))\n",
        "pipelines.append(('scaledDT' , (Pipeline([('scaled' , StandardScaler()),('DT' ,DecisionTreeClassifier())]))))\n",
        "pipelines.append(('scaledRF' , (Pipeline([('scaled' , StandardScaler()),('RF' ,RandomForestClassifier())]))))\n",
        "pipelines.append(('scaledKNN' , (Pipeline([('scaled' , StandardScaler()),('KNN' ,KNeighborsClassifier())]))))\n",
        "pipelines.append(('scaledSVC' , (Pipeline([('scaled' , StandardScaler()),('SVC' ,SVC(probability=True))]))))\n",
        "pipelines.append(('scaledLDA' , (Pipeline([('scaled' , StandardScaler()),('LDA' ,LDA())]))))"
      ],
      "metadata": {
        "id": "hnZH9QaG5UjJ"
      },
      "execution_count": null,
      "outputs": []
    },
    {
      "cell_type": "code",
      "source": [
        "model_name = []\n",
        "results = []\n",
        "for pipe ,model in pipelines:\n",
        "    model.fit(X_train_l,y_train_l)\n",
        "    model_name.append(pipe)\n",
        "    accuracy = metrics.accuracy_score(y_test_l, model.predict(X_test_l))\n",
        "    y_pred_proba = model.predict_proba(X_test_l)\n",
        "    auc = metrics.roc_auc_score(y_test_l, y_pred_proba, multi_class='ovr')\n",
        "    msg = \"%s_lasso: (accuracy) %f (auc) %g \" % (pipe,accuracy,auc)\n",
        "    print(msg)"
      ],
      "metadata": {
        "id": "-sjnQ1Vl5Wdp",
        "outputId": "a766c952-b067-450e-e847-407f7ce096ec",
        "colab": {
          "base_uri": "https://localhost:8080/"
        }
      },
      "execution_count": null,
      "outputs": [
        {
          "output_type": "stream",
          "name": "stdout",
          "text": [
            "scaledLR_lasso: (accuracy) 0.240741 (auc) 0.720905 \n",
            "scaledDT_lasso: (accuracy) 0.212963 (auc) 0.544399 \n",
            "scaledRF_lasso: (accuracy) 0.250000 (auc) 0.664439 \n",
            "scaledKNN_lasso: (accuracy) 0.305556 (auc) 0.66479 \n",
            "scaledSVC_lasso: (accuracy) 0.277778 (auc) 0.695508 \n",
            "scaledLDA_lasso: (accuracy) 0.222222 (auc) 0.717025 \n"
          ]
        }
      ]
    },
    {
      "cell_type": "code",
      "source": [],
      "metadata": {
        "id": "Aj2dO5e05YXZ"
      },
      "execution_count": null,
      "outputs": []
    }
  ]
}